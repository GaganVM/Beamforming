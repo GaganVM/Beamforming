{
 "cells": [
  {
   "cell_type": "code",
   "execution_count": 1,
   "id": "f551f684-79cc-478a-845c-9b684720678d",
   "metadata": {
    "slideshow": {
     "slide_type": ""
    },
    "tags": []
   },
   "outputs": [],
   "source": [
    "import pandas as pd\n",
    "import numpy as np\n",
    "import sys\n",
    "import os\n",
    "import torch\n",
    "import matplotlib.pyplot as plt\n",
    "sys.path.append(\".//Beamforming-main//\")\n",
    "from dataloader_gpu import create_data_loaders\n",
    "from models import *\n",
    "from loss import *"
   ]
  },
  {
   "cell_type": "code",
   "execution_count": 2,
   "id": "2b5a94fe",
   "metadata": {},
   "outputs": [
    {
     "ename": "NameError",
     "evalue": "name 'repo_dir' is not defined",
     "output_type": "error",
     "traceback": [
      "\u001b[1;31m---------------------------------------------------------------------------\u001b[0m",
      "\u001b[1;31mNameError\u001b[0m                                 Traceback (most recent call last)",
      "Cell \u001b[1;32mIn[2], line 1\u001b[0m\n\u001b[1;32m----> 1\u001b[0m os\u001b[38;5;241m.\u001b[39mlistdir(os\u001b[38;5;241m.\u001b[39mpath\u001b[38;5;241m.\u001b[39mjoin(\u001b[43mrepo_dir\u001b[49m, \u001b[38;5;124m'\u001b[39m\u001b[38;5;124mBeamforming-main\u001b[39m\u001b[38;5;130;01m\\\\\u001b[39;00m\u001b[38;5;124mautoencoder_checkpoints\u001b[39m\u001b[38;5;130;01m\\\\\u001b[39;00m\u001b[38;5;124mposition\u001b[39m\u001b[38;5;124m'\u001b[39m))\n",
      "\u001b[1;31mNameError\u001b[0m: name 'repo_dir' is not defined"
     ]
    }
   ],
   "source": [
    "os.listdir(os.path.join(repo_dir, 'Beamforming-main\\\\autoencoder_checkpoints\\\\position'))"
   ]
  },
  {
   "cell_type": "code",
   "execution_count": 2,
   "id": "6db0d23c-1bee-49ed-aa0c-6dbbe3322b1e",
   "metadata": {},
   "outputs": [
    {
     "data": {
      "text/plain": [
       "'C:\\\\Users\\\\admin\\\\Desktop\\\\iot\\\\Beamforming-main\\\\autoencoder_checkpoints\\\\azimuthal\\\\model3'"
      ]
     },
     "execution_count": 2,
     "metadata": {},
     "output_type": "execute_result"
    }
   ],
   "source": [
    "repo_dir = 'C:\\\\Users\\\\admin\\\\Desktop\\\\iot'\n",
    "\n",
    "input_type = ['azimuthal', 'position', 'azimuthal_position']\n",
    "input_size=[2,3,5]\n",
    "input_col = [[0,1,5,6], [2,3,4,7,8,9], list(range(10))]\n",
    "\n",
    "models = ['lstmattention', 'lstmmodel', 'model1', 'model2','model3']\n",
    "i,m = 0,4\n",
    "\n",
    "# checkpoint_dir = os.path.join(repo_dir, 'Beamforming-main\\\\autoencoder_checkpoints\\\\position\\\\model1')\n",
    "checkpoint_dir = os.path.join(repo_dir, f'Beamforming-main\\\\autoencoder_checkpoints\\\\{input_type[i]}\\\\{models[m]}')\n",
    "checkpoint_files = os.listdir(path=checkpoint_dir)\n",
    "checkpoint_dir"
   ]
  },
  {
   "cell_type": "code",
   "execution_count": 3,
   "id": "9ba543f6-4c72-4320-b240-50b163aceb6a",
   "metadata": {},
   "outputs": [
    {
     "name": "stdout",
     "output_type": "stream",
     "text": [
      "CPU times: total: 2.27 s\n",
      "Wall time: 3.95 s\n"
     ]
    },
    {
     "data": {
      "text/html": [
       "<div>\n",
       "<style scoped>\n",
       "    .dataframe tbody tr th:only-of-type {\n",
       "        vertical-align: middle;\n",
       "    }\n",
       "\n",
       "    .dataframe tbody tr th {\n",
       "        vertical-align: top;\n",
       "    }\n",
       "\n",
       "    .dataframe thead th {\n",
       "        text-align: right;\n",
       "    }\n",
       "</style>\n",
       "<table border=\"1\" class=\"dataframe\">\n",
       "  <thead>\n",
       "    <tr style=\"text-align: right;\">\n",
       "      <th></th>\n",
       "      <th>epoch</th>\n",
       "      <th>training_loss</th>\n",
       "      <th>val_loss</th>\n",
       "    </tr>\n",
       "  </thead>\n",
       "  <tbody>\n",
       "    <tr>\n",
       "      <th>0</th>\n",
       "      <td>1</td>\n",
       "      <td>0.080200</td>\n",
       "      <td>0.063543</td>\n",
       "    </tr>\n",
       "    <tr>\n",
       "      <th>1</th>\n",
       "      <td>2</td>\n",
       "      <td>0.048505</td>\n",
       "      <td>0.038073</td>\n",
       "    </tr>\n",
       "    <tr>\n",
       "      <th>2</th>\n",
       "      <td>3</td>\n",
       "      <td>0.032138</td>\n",
       "      <td>0.027966</td>\n",
       "    </tr>\n",
       "    <tr>\n",
       "      <th>3</th>\n",
       "      <td>4</td>\n",
       "      <td>0.025620</td>\n",
       "      <td>0.023824</td>\n",
       "    </tr>\n",
       "    <tr>\n",
       "      <th>4</th>\n",
       "      <td>5</td>\n",
       "      <td>0.022699</td>\n",
       "      <td>0.021694</td>\n",
       "    </tr>\n",
       "  </tbody>\n",
       "</table>\n",
       "</div>"
      ],
      "text/plain": [
       "   epoch  training_loss  val_loss\n",
       "0      1       0.080200  0.063543\n",
       "1      2       0.048505  0.038073\n",
       "2      3       0.032138  0.027966\n",
       "3      4       0.025620  0.023824\n",
       "4      5       0.022699  0.021694"
      ]
     },
     "execution_count": 3,
     "metadata": {},
     "output_type": "execute_result"
    }
   ],
   "source": [
    "%%time\n",
    "training_report = []\n",
    "for file in checkpoint_files:\n",
    "    data = torch.load(os.path.join(checkpoint_dir,file))\n",
    "    training_report.append([data['epoch'], data['train_loss'], data['val_loss']])\n",
    "\n",
    "report_df = pd.DataFrame(training_report, columns=['epoch','training_loss','val_loss'])\n",
    "report_df.sort_values(by='epoch', axis=0, ignore_index=True, inplace=True)\n",
    "report_df.head()"
   ]
  },
  {
   "cell_type": "code",
   "execution_count": 4,
   "id": "2a58f512-bddd-46a4-8c12-fd5cdc3d2ae9",
   "metadata": {},
   "outputs": [
    {
     "name": "stdout",
     "output_type": "stream",
     "text": [
      "<class 'pandas.core.frame.DataFrame'>\n",
      "RangeIndex: 200 entries, 0 to 199\n",
      "Data columns (total 3 columns):\n",
      " #   Column         Non-Null Count  Dtype  \n",
      "---  ------         --------------  -----  \n",
      " 0   epoch          200 non-null    int64  \n",
      " 1   training_loss  200 non-null    float64\n",
      " 2   val_loss       200 non-null    float64\n",
      "dtypes: float64(2), int64(1)\n",
      "memory usage: 4.8 KB\n"
     ]
    }
   ],
   "source": [
    "report_df.info()"
   ]
  },
  {
   "cell_type": "markdown",
   "id": "d88a471a-bc07-4b22-9c5f-4f01beb4bc6d",
   "metadata": {},
   "source": [
    "training and validation loss"
   ]
  },
  {
   "cell_type": "code",
   "execution_count": 5,
   "id": "2a4f9e9d-f787-4beb-b154-0ff8f592a6c9",
   "metadata": {},
   "outputs": [
    {
     "data": {
      "text/plain": [
       "[]"
      ]
     },
     "execution_count": 5,
     "metadata": {},
     "output_type": "execute_result"
    },
    {
     "data": {
      "image/png": "[encoded data removed]",
      "text/plain": [
       "<Figure size 640x480 with 1 Axes>"
      ]
     },
     "metadata": {},
     "output_type": "display_data"
    }
   ],
   "source": [
    "plt.plot(report_df.val_loss.values,label=\"val-loss\")\n",
    "plt.plot(report_df.training_loss.values,label=\"train-loss\")\n",
    "plt.xlabel(\"epochs\")\n",
    "plt.ylabel(\"rmse-loss\")\n",
    "plt.legend()\n",
    "plt.title(f'model: {models[m]}; input: {input_type[i]}',color='r')\n",
    "plt.plot()"
   ]
  },
  {
   "cell_type": "markdown",
   "id": "cc916b4c-1f2f-40a0-a167-51c2baa6145a",
   "metadata": {},
   "source": [
    "loading test data"
   ]
  },
  {
   "cell_type": "code",
   "execution_count": 6,
   "id": "87e3fbfb-e041-4e83-b027-bd0a5cbc6f1f",
   "metadata": {},
   "outputs": [
    {
     "name": "stdout",
     "output_type": "stream",
     "text": [
      "Device for Dataloder: cuda\n",
      "CPU times: total: 50.7 s\n",
      "Wall time: 45.3 s\n"
     ]
    }
   ],
   "source": [
    "%%time\n",
    "input_data = os.path.join(repo_dir,'Data\\\\input_signal_data.csv')\n",
    "output_data = os.path.join(repo_dir,'Data\\\\output_weight_parameters_data.csv')\n",
    "\n",
    "device = torch.device(\"cuda\" if torch.cuda.is_available() else \"cpu\")\n",
    "train_loader,val_loader,test_loader = create_data_loaders(input_data, \n",
    "                                                          output_data, \n",
    "                                                          batch_size=1024, \n",
    "                                                          input_col=input_col[i], \n",
    "                                                          input_size=input_size[i],\n",
    "                                                          device=device)"
   ]
  },
  {
   "cell_type": "code",
   "execution_count": 9,
   "id": "228d8cc2-978c-4bf5-a787-59c34cbbee00",
   "metadata": {},
   "outputs": [],
   "source": [
    "best_epoch = report_df[report_df.val_loss==report_df.val_loss.min()].epoch.to_list()[0]\n",
    "# checkpoint_path = f'C:\\\\Users\\\\admin\\\\Desktop\\\\iot\\\\Beamforming-main\\\\autoencoder_checkpoints\\\\azimuthal_position\\\\model2\\\\model_checkpoint_epoch_{best_epoch}.pt'\n",
    "checkpoint_path = os.path.join(checkpoint_dir,f'model_checkpoint_epoch_{best_epoch}.pt')\n",
    "checkpoint=torch.load(checkpoint_path)\n",
    "\n",
    "hidden_size=576\n",
    "num_layers=4\n",
    "output_size=128\n",
    "num_heads=4\n",
    "\n",
    "#model = LSTMModelWithMultiheadAttention(input_size[i],hidden_size,num_layers,output_size,num_heads).to(device)\n",
    "#model = LSTMModel(input_size[i],hidden_size,num_layers,output_size).to(device)\n",
    "# model = Model1().to(device)\n",
    "# model = Model2().to(device)\n",
    "model = Model3().to(device)\n",
    "model.load_state_dict(checkpoint['model_state_dict'])\n",
    "criterion = RMSELoss()"
   ]
  },
  {
   "cell_type": "code",
   "execution_count": 10,
   "id": "50b3d515-ed20-476a-b64a-6560e833e952",
   "metadata": {},
   "outputs": [
    {
     "name": "stdout",
     "output_type": "stream",
     "text": [
      "Calculating loss for\n",
      "\ttest data\n",
      "\ttraining data\n",
      "\tvalidation data\n",
      "CPU times: total: 3 s\n",
      "Wall time: 258 ms\n"
     ]
    }
   ],
   "source": [
    "%%time\n",
    "def calculate_loss(model, loader, name, printif=False):\n",
    "    print(name)\n",
    "    batch = 1\n",
    "    losses = []\n",
    "    for inputs, targets in loader:\n",
    "        inputs, targets = inputs.to(device), targets.to(device)\n",
    "        outputs = model(inputs)\n",
    "        loss = criterion(outputs, targets)\n",
    "        losses.append(float(loss))\n",
    "        if printif:\n",
    "            print(f'batch: {batch}: rmse-loss: {loss}')\n",
    "        batch+=1\n",
    "        return losses\n",
    "\n",
    "print('Calculating loss for')\n",
    "test_losses = calculate_loss(model, test_loader, name='\\ttest data')\n",
    "train_losses = calculate_loss(model, train_loader, name='\\ttraining data')\n",
    "val_losses = calculate_loss(model, val_loader, name='\\tvalidation data')"
   ]
  },
  {
   "cell_type": "code",
   "execution_count": 11,
   "id": "85dccf6b-c36d-447a-8d1d-73deab3f652d",
   "metadata": {},
   "outputs": [
    {
     "name": "stdout",
     "output_type": "stream",
     "text": [
      "loss of\n",
      "|- test: 0.006930566392838955\n",
      "|- validation: 0.006974918767809868\n",
      "|- train: 0.0069183772429823875\n"
     ]
    }
   ],
   "source": [
    "print('loss of')\n",
    "print('|- test:',np.mean(test_losses))\n",
    "print('|- validation:',np.mean(val_losses))\n",
    "print('|- train:',np.mean(train_losses))"
   ]
  },
  {
   "cell_type": "code",
   "execution_count": null,
   "id": "9bc0a16f-0940-44b1-92ff-c48c3628737a",
   "metadata": {},
   "outputs": [],
   "source": []
  }
 ],
 "metadata": {
  "kernelspec": {
   "display_name": "Python 3 (ipykernel)",
   "language": "python",
   "name": "python3"
  },
  "language_info": {
   "codemirror_mode": {
    "name": "ipython",
    "version": 3
   },
   "file_extension": ".py",
   "mimetype": "text/x-python",
   "name": "python",
   "nbconvert_exporter": "python",
   "pygments_lexer": "ipython3",
   "version": "3.11.4"
  }
 },
 "nbformat": 4,
 "nbformat_minor": 5
}
