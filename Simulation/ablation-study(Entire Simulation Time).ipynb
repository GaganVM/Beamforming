{
 "cells": [
  {
   "cell_type": "code",
   "execution_count": 43,
   "id": "28a13b84",
   "metadata": {},
   "outputs": [],
   "source": [
    "import matplotlib.pyplot as plt\n",
    "import pickle as pkl\n",
    "import numpy as np\n",
    "import scipy.signal as ss\n",
    "import torch\n",
    "import os\n",
    "import warnings\n",
    "warnings.filterwarnings(\"ignore\")\n",
    "\n",
    "from weight import array_weight_vector\n",
    "from utils import *\n",
    "from doa import music\n",
    "from models import Model1\n",
    "sim_tm = Time()\n",
    "device = torch.device(\"cuda\" if torch.cuda.is_available() else \"cpu\")\n",
    "\n",
    "repo_dir = os.getcwd()\n",
    "tm = Time()"
   ]
  },
  {
   "cell_type": "code",
   "execution_count": 44,
   "id": "35919551",
   "metadata": {},
   "outputs": [
    {
     "data": {
      "text/plain": [
       "device(type='cuda')"
      ]
     },
     "execution_count": 44,
     "metadata": {},
     "output_type": "execute_result"
    }
   ],
   "source": [
    "device"
   ]
  },
  {
   "cell_type": "markdown",
   "id": "1c7d45d1",
   "metadata": {},
   "source": [
    "## Sample Location Generation For Testing"
   ]
  },
  {
   "cell_type": "code",
   "execution_count": 45,
   "id": "f85ffa0e",
   "metadata": {},
   "outputs": [
    {
     "name": "stdout",
     "output_type": "stream",
     "text": [
      "\n",
      "simulation sample data\n",
      "----------------------\n",
      "random signal direction #polar: [53.57160909 19.91878832]\n",
      "random signal direction #azimuthal: [295.6424843   15.01078526]\n",
      "\n",
      "base station locations: [0, 0, 0]\n",
      "\n",
      "RIS \n",
      "direction vectors: [[0.006067509241204117, 2.7744162567926823e-05, 0.9999815921115095]]\n",
      "direction angles: [[19.918788318070632, 15.010785261089966]]\n",
      "power: [-1.75841946+0.64576634j]\n",
      "\n",
      "user equipment \n",
      "direction vectors: [[0.016251992379168842, 0.0014675892375824373, 0.999866850598387]]\n",
      "direction angles: [[53.571609086160095, 295.64248430081943]]\n",
      "power: [0.15402256-0.63575391j]\n"
     ]
    }
   ],
   "source": [
    "%matplotlib notebook\n",
    "np.random.seed(6)\n",
    "\n",
    "P,Q = 8,8 # rows and columns of antenna array\n",
    "lamda = 1 # wavelength\n",
    "ue = 1  # number of user equipments\n",
    "ris = 1  # number of RIS\n",
    "n_source = ue+ris\n",
    "n_antenna = P*Q  # number of antenna elements \n",
    "snr = 10\n",
    "\n",
    "print('\\nsimulation sample data\\n----------------------')\n",
    "array = np.linspace(0,(n_antenna-1)/2,n_antenna)\n",
    "\n",
    "# angle for RIS would be added\n",
    "p_thetas = (np.pi/3)*(np.random.rand(n_source))   # random source polar directions\n",
    "az_thetas = (2*np.pi)*(np.random.rand(n_source))   # random source azimuthal directions\n",
    "\n",
    "# power from RIS would be added\n",
    "ue_alphas = np.sqrt(1/2)*(np.random.randn(ue) + np.random.randn(ue)*1j) # random UE powers\n",
    "ris_alphas = np.sqrt(1/2)*(np.random.randn(ris) + np.random.randn(ris)*1j) # random RIS powers\n",
    "\n",
    "print('random signal direction #polar:',p_thetas*180/np.pi)\n",
    "print('random signal direction #azimuthal:',az_thetas*180/np.pi)\n",
    "\n",
    "ue_vectors, ris_vectors = [],[]\n",
    "ue_angles, ris_angles = [], []\n",
    "for polar,az in zip(p_thetas[:ue],az_thetas[:ue]):\n",
    "    ue_vectors.append(find_position_vector(polar,az))\n",
    "    ue_angles.append([polar*180/np.pi,az*180/np.pi])\n",
    "\n",
    "for polar,az in zip(p_thetas[ue:],az_thetas[ue:]):\n",
    "    ris_vectors.append(find_position_vector(polar,az))\n",
    "    ris_angles.append([polar*180/np.pi,az*180/np.pi])\n",
    "\n",
    "bs_vector = [0,0,0]\n",
    "print('\\nbase station locations:',bs_vector)\n",
    "print(f'\\nRIS \\ndirection vectors: {ris_vectors}\\ndirection angles: {ris_angles}\\npower: {ris_alphas}')\n",
    "print(f'\\nuser equipment \\ndirection vectors: {ue_vectors}\\ndirection angles: {ue_angles}\\npower: {ue_alphas}')"
   ]
  },
  {
   "cell_type": "markdown",
   "id": "694846fb",
   "metadata": {},
   "source": [
    "## Sample Data Generation"
   ]
  },
  {
   "cell_type": "code",
   "execution_count": 46,
   "id": "5a37a717",
   "metadata": {},
   "outputs": [
    {
     "name": "stdout",
     "output_type": "stream",
     "text": [
      "Total sample location collected: 129600\n"
     ]
    }
   ],
   "source": [
    "numAngles = 360\n",
    "p_angles = np.linspace(0,np.pi/3,numAngles)*180/np.pi\n",
    "az_angles = np.linspace(0,2*np.pi,numAngles)*180/np.pi\n",
    "general_angles = np.array(np.meshgrid(p_angles,az_angles)).T.reshape(-1, 2).tolist()\n",
    "print('Total sample location collected:', len(general_angles))"
   ]
  },
  {
   "cell_type": "markdown",
   "id": "6cbf6693",
   "metadata": {},
   "source": [
    "# Deep Learning"
   ]
  },
  {
   "cell_type": "code",
   "execution_count": 47,
   "id": "810d5408",
   "metadata": {},
   "outputs": [],
   "source": [
    "sim_tm.start(message=\"processing simulation #deep-learning\")"
   ]
  },
  {
   "cell_type": "code",
   "execution_count": 48,
   "id": "10bf69f8",
   "metadata": {},
   "outputs": [
    {
     "name": "stdout",
     "output_type": "stream",
     "text": [
      "H matrix shape(n_antenna,time_instance): (64, 100)\n",
      "covariance matrix shape: (64, 64)\n",
      "\n",
      ">> preparing covariance matrix by DL: Done!! Time taken: 0.0138 sec\n"
     ]
    }
   ],
   "source": [
    "numrealization = 100 # number of time samples collected at antenna array\n",
    "tm.start(message='preparing covariance matrix by DL')\n",
    "H = np.zeros((n_antenna,numrealization)) + 1j*np.zeros((n_antenna,numrealization))\n",
    "print('H matrix shape(n_antenna,time_instance):',H.shape)\n",
    "antenna_weight = array_weight_vector(ris_vectors,\n",
    "                                     ue_vectors,\n",
    "                                     ris_angles,\n",
    "                                     ue_angles,\n",
    "                                     vector=True,\n",
    "                                     angle=True,)\n",
    "\n",
    "for iter in range(numrealization):\n",
    "    # random distortions due to propagation medium\n",
    "    #ris\n",
    "    distortion_ris = np.exp(1j*2*np.pi*np.random.rand(1)) \n",
    "    recieved_power_ris = distortion_ris*ris_alphas*antenna_weight\n",
    "    #ue\n",
    "    distortion_ue = np.exp(1j*2*np.pi*np.random.rand(1))\n",
    "    recieved_power_ue = distortion_ue*ue_alphas*antenna_weight\n",
    "    \n",
    "    net_recieved_power = recieved_power_ris+recieved_power_ue\n",
    "    noise = np.sqrt(0.5/snr)*(np.random.randn(n_antenna)+np.random.randn(n_antenna)*1j)\n",
    "    H[:,iter] = net_recieved_power+noise\n",
    "CovMat = H@H.conj().transpose()\n",
    "print('covariance matrix shape:',CovMat.shape)\n",
    "tm.end()"
   ]
  },
  {
   "cell_type": "code",
   "execution_count": 49,
   "id": "1f37a885",
   "metadata": {},
   "outputs": [
    {
     "name": "stdout",
     "output_type": "stream",
     "text": [
      "CPU times: total: 0 ns\n",
      "Wall time: 0 ns\n"
     ]
    }
   ],
   "source": [
    "%%time\n",
    "\n",
    "# MUSIC algorithm\n",
    "\n",
    "# DoAsMUSIC, psindB = music(CovMat,\n",
    "#                           L = n_source,\n",
    "#                           N = n_antenna,\n",
    "#                           angles = general_angles,\n",
    "#                           ris_data = ris_angles+ris_vectors,\n",
    "#                           height=None,\n",
    "#                           method='dl')"
   ]
  },
  {
   "cell_type": "code",
   "execution_count": 50,
   "id": "1177b287",
   "metadata": {},
   "outputs": [],
   "source": [
    "file_path = os.path.join(repo_dir,'Data','psindB.pkl')\n",
    "# with open(file_path, 'wb') as file:\n",
    "#     pkl.dump(psindB, file)\n",
    "    \n",
    "with open(file_path, 'rb') as file:\n",
    "    psindB = pkl.load(file)"
   ]
  },
  {
   "cell_type": "code",
   "execution_count": 51,
   "id": "ed1c723e",
   "metadata": {},
   "outputs": [
    {
     "name": "stdout",
     "output_type": "stream",
     "text": [
      "detected angles for user equipment: [50.64066852367687, 284.7910863509749]\n",
      "actual UE direction: [[53.571609086160095, 295.64248430081943]]\n",
      "with maximum SINR: 19.86365324043524\n",
      "\n",
      "CPU times: total: 1.86 s\n",
      "Wall time: 155 ms\n"
     ]
    }
   ],
   "source": [
    "%%time\n",
    "signal_samples = 10\n",
    "DoAsMUSIC,_= ss.find_peaks(psindB)\n",
    "indies = np.argsort(psindB[DoAsMUSIC])[-1*signal_samples:]\n",
    "samples = np.array(general_angles)[DoAsMUSIC][indies]\n",
    "\n",
    "sinr = SINR(ris_power = ris_alphas,\n",
    "            ue_power = ue_alphas,\n",
    "            ue_angles = samples,\n",
    "            ris_data = ris_angles+ris_vectors,\n",
    "            snr = 10)\n",
    "detected_ue_angles = samples[np.argmax(sinr)].tolist()\n",
    "print('detected angles for user equipment:',detected_ue_angles)\n",
    "print('actual UE direction:',ue_angles)\n",
    "print('with maximum SINR:',np.max(sinr))\n",
    "print()"
   ]
  },
  {
   "cell_type": "code",
   "execution_count": 52,
   "id": "e802a934",
   "metadata": {},
   "outputs": [
    {
     "name": "stdout",
     "output_type": "stream",
     "text": [
      "RIS\n",
      "---\n",
      "amplitude: 1.3278521844202702\n",
      "phase: 121.81296752118382\n",
      "\n",
      "User Equipement\n",
      "---------------\n",
      "amplitude: 0.4636912856726687\n",
      "phase: 143.94829709885073\n",
      "\n",
      "time delay: 2.0495675534876768e-10 seconds\n",
      "∇d: 0.061487026604630304 meters\n"
     ]
    }
   ],
   "source": [
    "%matplotlib inline\n",
    "\n",
    "frequency = 3e8\n",
    "duration = 5\n",
    "sampling_rate=50 \n",
    "speed= frequency*lamda\n",
    "ue_angle = samples[np.argmax(sinr)].tolist()\n",
    "specified_vector = find_position_vector(ue_angle[0],ue_angle[1])\n",
    "ris_data=ris_angles+ris_vectors\n",
    "weights = array_weight_vector(ris_vectors=[ris_data[1]],\n",
    "                              ue_vectors=[specified_vector],\n",
    "                              ris_angles=[ris_data[0]],\n",
    "                              ue_angles=[ue_angle],\n",
    "                              vector=True,\n",
    "                              angle=True\n",
    "                             )\n",
    "\n",
    "#ris\n",
    "distortion_ris = np.exp(1j*2*np.pi*np.random.default_rng(seed=42).random(1)) \n",
    "recieved_power_ris = np.sum(distortion_ris*ris_alphas*weights)/n_antenna\n",
    "ris_time, ris_sinusoidal_wave = complex_to_sinusoidal(recieved_power_ris, \n",
    "                                                      frequency, \n",
    "                                                      duration,\n",
    "                                                      sampling_rate=sampling_rate)\n",
    "\n",
    "#ue\n",
    "distortion_ue = np.exp(1j*2*np.pi*np.random.default_rng(seed=21+np.argmax(sinr)).random(1))\n",
    "recieved_power_ue = np.sum(distortion_ue*ue_alphas*weights)/n_antenna\n",
    "ue_time, ue_sinusoidal_wave = complex_to_sinusoidal(recieved_power_ue, \n",
    "                                                    frequency, \n",
    "                                                    duration,\n",
    "                                                    sampling_rate=sampling_rate)\n",
    "\n",
    "print('RIS\\n---')\n",
    "print('amplitude:',np.abs(recieved_power_ris))\n",
    "phase_ris = np.angle(recieved_power_ris)*180/np.pi\n",
    "print('phase:',phase_ris)\n",
    "\n",
    "print('\\nUser Equipement\\n---------------')\n",
    "print('amplitude:',np.abs(recieved_power_ue))\n",
    "phase_ue = np.angle(recieved_power_ue)*180/np.pi\n",
    "print('phase:',phase_ue)\n",
    "\n",
    "phase_diff = abs(phase_ris-phase_ue)\n",
    "omega = 360*frequency\n",
    "del_t = phase_diff/omega\n",
    "del_d = speed*del_t\n",
    "\n",
    "print(f'\\ntime delay: {abs(del_t)} seconds')\n",
    "print(f'∇d: {del_d} meters')"
   ]
  },
  {
   "cell_type": "code",
   "execution_count": 53,
   "id": "cd6d0e61",
   "metadata": {},
   "outputs": [
    {
     "name": "stdout",
     "output_type": "stream",
     "text": [
      "\n",
      ">> processing simulation #deep-learning: Done!! Time taken: 0.2501 sec\n"
     ]
    }
   ],
   "source": [
    "sim_tm.end()"
   ]
  },
  {
   "cell_type": "markdown",
   "id": "5cb287bb",
   "metadata": {},
   "source": [
    "# Neural Network (Model 1)"
   ]
  },
  {
   "cell_type": "code",
   "execution_count": 54,
   "id": "43bfac4c",
   "metadata": {},
   "outputs": [
    {
     "name": "stdout",
     "output_type": "stream",
     "text": [
      "Model1(\n",
      "  (linear1): Linear(in_features=4, out_features=64, bias=True)\n",
      "  (linear2): Linear(in_features=64, out_features=128, bias=True)\n",
      "  (linear3): Linear(in_features=128, out_features=256, bias=True)\n",
      "  (linear4): Linear(in_features=256, out_features=512, bias=True)\n",
      "  (linear5): Linear(in_features=512, out_features=256, bias=True)\n",
      "  (linear6): Linear(in_features=256, out_features=128, bias=True)\n",
      "  (linear7): Linear(in_features=128, out_features=128, bias=True)\n",
      ")\n"
     ]
    }
   ],
   "source": [
    "model = Model1(input_size=4).to(device=device)\n",
    "\n",
    "input_ = 'azimuthal'\n",
    "model_name = 'model1'\n",
    "weight_file = os.listdir(os.path.join(repo_dir,'model_states',input_, model_name))[0]\n",
    "state = torch.load(os.path.join(repo_dir,'model_states',input_,model_name,weight_file), \n",
    "                   map_location=torch.device(device))\n",
    "\n",
    "model.load_state_dict(state)\n",
    "print(model.eval())\n",
    "\n",
    "loc = 70\n",
    "cols = [0,1,5,6] \n",
    "# position: [2,3,4,7,8,9] or angle: [0,1,5,6] or position+angle: range(10)\n",
    "\n",
    "vector_check = False\n",
    "angle_check = True\n",
    "neural_network=True # make it false when using LSTM or related models"
   ]
  },
  {
   "cell_type": "code",
   "execution_count": 55,
   "id": "7ccfe75f",
   "metadata": {},
   "outputs": [],
   "source": [
    "sim_tm.start(message=\"processing simulation #neural-network\")"
   ]
  },
  {
   "cell_type": "code",
   "execution_count": 56,
   "id": "fd3f65d0",
   "metadata": {},
   "outputs": [
    {
     "name": "stdout",
     "output_type": "stream",
     "text": [
      "H matrix shape(n_antenna,time_instance): (64, 100)\n",
      "covariance matrix shape: (64, 64)\n"
     ]
    }
   ],
   "source": [
    "numrealization = 100 # number of time samples collected at antenna array\n",
    "H = np.zeros((n_antenna,numrealization)) + 1j*np.zeros((n_antenna,numrealization))\n",
    "print('H matrix shape(n_antenna,time_instance):',H.shape)\n",
    "antenna_weight = array_weight_vector(ris_vectors,\n",
    "                                     ue_vectors,\n",
    "                                     ris_angles,\n",
    "                                     ue_angles,\n",
    "                                     vector=vector_check,\n",
    "                                     angle=angle_check,\n",
    "                                     model=model,\n",
    "                                     neural_network=neural_network) \n",
    "\n",
    "for iter in range(numrealization):\n",
    "    # random distortions due to propagation medium\n",
    "    #ris\n",
    "    distortion_ris = np.exp(1j*2*np.pi*np.random.rand(1)) \n",
    "    recieved_power_ris = distortion_ris*ris_alphas*antenna_weight\n",
    "    #ue\n",
    "    distortion_ue = np.exp(1j*2*np.pi*np.random.rand(1))\n",
    "    recieved_power_ue = distortion_ue*ue_alphas*antenna_weight\n",
    "    \n",
    "    net_recieved_power = recieved_power_ris+recieved_power_ue\n",
    "    noise = np.sqrt(0.5/snr)*(np.random.randn(n_antenna)+np.random.randn(n_antenna)*1j)\n",
    "    H[:,iter] = net_recieved_power+noise\n",
    "CovMat = H@H.conj().transpose()\n",
    "print('covariance matrix shape:',CovMat.shape)"
   ]
  },
  {
   "cell_type": "code",
   "execution_count": 57,
   "id": "2d4602b5",
   "metadata": {},
   "outputs": [
    {
     "name": "stdout",
     "output_type": "stream",
     "text": [
      "CPU times: total: 0 ns\n",
      "Wall time: 0 ns\n"
     ]
    }
   ],
   "source": [
    "%%time\n",
    "\n",
    "# MUSIC algorithm\n",
    "# DoAsMUSIC, psindB = music(CovMat,\n",
    "#                           L = n_source,\n",
    "#                           N = n_antenna,\n",
    "#                           angles = general_angles,\n",
    "#                           ris_data = ris_angles+ris_vectors,\n",
    "#                           model = model,\n",
    "#                           vector_ = vector_check,\n",
    "#                           angle_ = angle_check,\n",
    "#                           height=[7, 9],\n",
    "#                           method='dl',\n",
    "#                           P=P,\n",
    "#                           Q=Q,\n",
    "#                           lamda=lamda,\n",
    "#                           neural_network=neural_network\n",
    "#                          )"
   ]
  },
  {
   "cell_type": "code",
   "execution_count": 58,
   "id": "e137ef24",
   "metadata": {},
   "outputs": [],
   "source": [
    "file_path = os.path.join(repo_dir,'Data','psindB-NN.pkl')\n",
    "# with open(file_path, 'wb') as file:\n",
    "#     pkl.dump(psindB, file)\n",
    "    \n",
    "with open(file_path, 'rb') as file:\n",
    "    psindB = pkl.load(file)"
   ]
  },
  {
   "cell_type": "code",
   "execution_count": 59,
   "id": "03350883",
   "metadata": {},
   "outputs": [
    {
     "name": "stdout",
     "output_type": "stream",
     "text": [
      "detected angles for user equipment: [54.3175487465181, 299.8328690807799]\n",
      "actual UE direction: [[53.571609086160095, 295.64248430081943]]\n",
      "with maximum SINR: 42.8588202394683\n",
      "\n",
      "CPU times: total: 750 ms\n",
      "Wall time: 66.3 ms\n"
     ]
    }
   ],
   "source": [
    "%%time\n",
    "signal_samples = 10\n",
    "DoAsMUSIC,_= ss.find_peaks(psindB)\n",
    "indies = np.argsort(psindB[DoAsMUSIC])[-1*signal_samples:]\n",
    "samples = np.array(general_angles)[DoAsMUSIC][indies]\n",
    "\n",
    "sinr = SINR(ris_power = ris_alphas,\n",
    "            ue_power = ue_alphas,\n",
    "            ue_angles = samples,\n",
    "            ris_data = ris_angles+ris_vectors,\n",
    "            model = model,\n",
    "            vector = vector_check,\n",
    "            angle = angle_check,\n",
    "            snr = 10,\n",
    "            neural_network=neural_network)\n",
    "\n",
    "detected_ue_angles = samples[np.argmax(sinr)].tolist()\n",
    "print('detected angles for user equipment:',detected_ue_angles)\n",
    "print('actual UE direction:',ue_angles)\n",
    "print('with maximum SINR:',np.max(sinr))\n",
    "print()"
   ]
  },
  {
   "cell_type": "code",
   "execution_count": 60,
   "id": "750129be",
   "metadata": {},
   "outputs": [
    {
     "name": "stdout",
     "output_type": "stream",
     "text": [
      "RIS\n",
      "---\n",
      "amplitude: 264.9338420960134\n",
      "phase: 133.22591882577447\n",
      "\n",
      "User Equipement\n",
      "---------------\n",
      "amplitude: 92.51595569226293\n",
      "phase: 110.27052762122315\n",
      "\n",
      "time delay: 2.1254991856066035e-10 seconds\n",
      "∇d: 0.0637649755681981 meters\n"
     ]
    }
   ],
   "source": [
    "%matplotlib inline\n",
    "\n",
    "frequency = 3e8\n",
    "duration = 5\n",
    "sampling_rate=50 \n",
    "speed= frequency*lamda\n",
    "ue_angle = samples[np.argmax(sinr)].tolist()\n",
    "specified_vector = find_position_vector(ue_angle[0],ue_angle[1])\n",
    "ris_data=ris_angles+ris_vectors\n",
    "weights = array_weight_vector(ris_vectors=[ris_data[1]],\n",
    "                              ue_vectors=[specified_vector],\n",
    "                              ris_angles=[ris_data[0]],\n",
    "                              ue_angles=[ue_angle],\n",
    "                              vector=vector_check,\n",
    "                              angle=angle_check,\n",
    "                              model=model,\n",
    "                              neural_network=neural_network)     \n",
    "\n",
    "#ris\n",
    "distortion_ris = np.exp(1j*2*np.pi*np.random.default_rng(seed=42).random(1)) \n",
    "recieved_power_ris = np.sum(distortion_ris*ris_alphas*weights)/n_antenna\n",
    "ris_time, ris_sinusoidal_wave = complex_to_sinusoidal(recieved_power_ris, \n",
    "                                                      frequency, \n",
    "                                                      duration,\n",
    "                                                      sampling_rate=sampling_rate)\n",
    "\n",
    "#ue\n",
    "distortion_ue = np.exp(1j*2*np.pi*np.random.default_rng(seed=21+np.argmax(sinr)).random(1))\n",
    "recieved_power_ue = np.sum(distortion_ue*ue_alphas*weights)/n_antenna\n",
    "ue_time, ue_sinusoidal_wave = complex_to_sinusoidal(recieved_power_ue, \n",
    "                                                    frequency, \n",
    "                                                    duration,\n",
    "                                                    sampling_rate=sampling_rate)\n",
    "\n",
    "print('RIS\\n---')\n",
    "print('amplitude:',np.abs(recieved_power_ris))\n",
    "phase_ris = np.angle(recieved_power_ris)*180/np.pi\n",
    "print('phase:',phase_ris)\n",
    "\n",
    "print('\\nUser Equipement\\n---------------')\n",
    "print('amplitude:',np.abs(recieved_power_ue))\n",
    "phase_ue = np.angle(recieved_power_ue)*180/np.pi\n",
    "print('phase:',phase_ue)\n",
    "\n",
    "phase_diff = abs(phase_ris-phase_ue)\n",
    "omega = 360*frequency\n",
    "del_t = phase_diff/omega\n",
    "del_d = speed*del_t\n",
    "\n",
    "print(f'\\ntime delay: {abs(del_t)} seconds')\n",
    "print(f'∇d: {del_d} meters')"
   ]
  },
  {
   "cell_type": "code",
   "execution_count": 61,
   "id": "a6d8eb2c",
   "metadata": {},
   "outputs": [
    {
     "name": "stdout",
     "output_type": "stream",
     "text": [
      "\n",
      ">> processing simulation #neural-network: Done!! Time taken: 0.1324 sec\n"
     ]
    }
   ],
   "source": [
    "sim_tm.end()"
   ]
  },
  {
   "cell_type": "markdown",
   "id": "3fb77d23",
   "metadata": {},
   "source": [
    "# NSB Algorithm"
   ]
  },
  {
   "cell_type": "code",
   "execution_count": 62,
   "id": "c0b9df8f",
   "metadata": {},
   "outputs": [],
   "source": [
    "sim_tm.start(message=\"processing simulation #nsb\")"
   ]
  },
  {
   "cell_type": "code",
   "execution_count": 63,
   "id": "3c21aa62",
   "metadata": {},
   "outputs": [
    {
     "name": "stdout",
     "output_type": "stream",
     "text": [
      "H matrix shape(n_antenna,time_instance): (64, 100)\n",
      "covariance matrix shape: (64, 64)\n",
      "\n",
      ">> preparing covariance matrix by NSB: Done!! Time taken: 0.0087 sec\n"
     ]
    }
   ],
   "source": [
    "numrealization = 100 # number of time samples collected at antenna array\n",
    "tm.start(message='preparing covariance matrix by NSB')\n",
    "H = np.zeros((n_antenna,numrealization)) + 1j*np.zeros((n_antenna,numrealization))\n",
    "print('H matrix shape(n_antenna,time_instance):',H.shape)\n",
    "antenna_weight = nsb(P,Q, wavelength=lamda, pos_angles=ris_angles+ue_angles).reshape(-1,)\n",
    "\n",
    "for iter in range(numrealization):\n",
    "    # random distortions due to propagation medium\n",
    "    #ris\n",
    "    distortion_ris = np.exp(1j*2*np.pi*np.random.rand(1)) \n",
    "    recieved_power_ris = distortion_ris*ris_alphas*antenna_weight\n",
    "    #ue\n",
    "    distortion_ue = np.exp(1j*2*np.pi*np.random.rand(1))\n",
    "    recieved_power_ue = distortion_ue*ue_alphas*antenna_weight\n",
    "    \n",
    "    net_recieved_power = recieved_power_ris+recieved_power_ue\n",
    "    noise = np.sqrt(0.5/snr)*(np.random.randn(n_antenna)+np.random.randn(n_antenna)*1j)\n",
    "    H[:,iter] = net_recieved_power+noise\n",
    "CovMat = H@H.conj().transpose()\n",
    "print('covariance matrix shape:',CovMat.shape)\n",
    "tm.end()"
   ]
  },
  {
   "cell_type": "code",
   "execution_count": 64,
   "id": "b4327dbd",
   "metadata": {},
   "outputs": [
    {
     "name": "stdout",
     "output_type": "stream",
     "text": [
      "CPU times: total: 0 ns\n",
      "Wall time: 0 ns\n"
     ]
    }
   ],
   "source": [
    "%%time\n",
    "\n",
    "# MUSIC algorithm\n",
    "\n",
    "# DoAsMUSIC, psindB = music(CovMat,\n",
    "#                           L = n_source,\n",
    "#                           N = n_antenna,\n",
    "#                           angles = general_angles,\n",
    "#                           ris_data = ris_angles+ris_vectors,\n",
    "#                           height=None,\n",
    "#                           method='nsb')"
   ]
  },
  {
   "cell_type": "code",
   "execution_count": 65,
   "id": "f22a83aa",
   "metadata": {},
   "outputs": [],
   "source": [
    "file_path = os.path.join(repo_dir,'Data','psindB-NSB.pkl')\n",
    "# with open(file_path, 'wb') as file:\n",
    "#     pkl.dump(psindB, file)\n",
    "    \n",
    "with open(file_path, 'rb') as file:\n",
    "    psindB = pkl.load(file)"
   ]
  },
  {
   "cell_type": "code",
   "execution_count": 66,
   "id": "bedb62b8",
   "metadata": {},
   "outputs": [
    {
     "name": "stdout",
     "output_type": "stream",
     "text": [
      "detected angles for user equipment: [50.47353760445682, 166.46239554317546]\n",
      "actual UE direction: [[53.571609086160095, 295.64248430081943]]\n",
      "with maximum SINR: 19.941919289584963\n",
      "\n",
      "CPU times: total: 1.31 s\n",
      "Wall time: 114 ms\n"
     ]
    }
   ],
   "source": [
    "%%time\n",
    "signal_samples = 10\n",
    "DoAsMUSIC,_= ss.find_peaks(psindB)\n",
    "indies = np.argsort(psindB[DoAsMUSIC])[-1*signal_samples:]\n",
    "samples = np.array(general_angles)[DoAsMUSIC][indies]\n",
    "\n",
    "sinr = SINR(ris_power = ris_alphas,\n",
    "            ue_power = ue_alphas,\n",
    "            ue_angles = samples,\n",
    "            ris_data = ris_angles+ris_vectors,\n",
    "            snr = 10)\n",
    "detected_ue_angles = samples[np.argmax(sinr)].tolist()\n",
    "print('detected angles for user equipment:',detected_ue_angles)\n",
    "print('actual UE direction:',ue_angles)\n",
    "print('with maximum SINR:',np.max(sinr))\n",
    "print()"
   ]
  },
  {
   "cell_type": "code",
   "execution_count": 67,
   "id": "c37b0719",
   "metadata": {},
   "outputs": [
    {
     "name": "stdout",
     "output_type": "stream",
     "text": [
      "CPU times: total: 0 ns\n",
      "Wall time: 0 ns\n",
      "RIS\n",
      "---\n",
      "amplitude: 0.0050600973838557965\n",
      "phase: 161.35846518356462\n",
      "\n",
      "User Equipement\n",
      "---------------\n",
      "amplitude: 0.0017670062143049366\n",
      "phase: 138.4030739790133\n",
      "\n",
      "time delay: 2.1254991856066035e-10 seconds\n",
      "∇d: 0.0637649755681981 meters\n"
     ]
    }
   ],
   "source": [
    "%time\n",
    "\n",
    "frequency = 3e8 #40e9  \n",
    "speed= frequency*lamda\n",
    "duration = 5\n",
    "sampling_rate=50 # >2*frequency\n",
    "ue_angle = samples[np.argmax(sinr)].tolist()\n",
    "ris_data=ris_angles+ris_vectors\n",
    "weights = nsb(P,Q, wavelength=lamda, pos_angles=[ris_data[0]]+[ue_angle]).reshape(-1,)\n",
    "\n",
    "#ris\n",
    "distortion_ris = np.exp(1j*2*np.pi*np.random.default_rng(seed=42).random(1)) \n",
    "recieved_power_ris = np.sum(distortion_ris*ris_alphas*weights)/n_antenna\n",
    "ris_time, ris_sinusoidal_wave = complex_to_sinusoidal(recieved_power_ris, \n",
    "                                                      frequency, \n",
    "                                                      duration,\n",
    "                                                      sampling_rate=sampling_rate)\n",
    "\n",
    "#ue\n",
    "distortion_ue = np.exp(1j*2*np.pi*np.random.default_rng(seed=21+np.argmax(sinr)).random(1))\n",
    "recieved_power_ue = np.sum(distortion_ue*ue_alphas*weights)/n_antenna\n",
    "ue_time, ue_sinusoidal_wave = complex_to_sinusoidal(recieved_power_ue, \n",
    "                                                    frequency, \n",
    "                                                    duration,\n",
    "                                                    sampling_rate=sampling_rate)\n",
    "\n",
    "print('RIS\\n---')\n",
    "print('amplitude:',np.abs(recieved_power_ris))\n",
    "phase_ris = np.angle(recieved_power_ris)*180/np.pi\n",
    "print('phase:',phase_ris)\n",
    "\n",
    "print('\\nUser Equipement\\n---------------')\n",
    "print('amplitude:',np.abs(recieved_power_ue))\n",
    "phase_ue = np.angle(recieved_power_ue)*180/np.pi\n",
    "print('phase:',phase_ue)\n",
    "\n",
    "phase_diff = abs(phase_ris-phase_ue)\n",
    "omega = 360*frequency\n",
    "del_t = phase_diff/omega\n",
    "del_d = speed*del_t\n",
    "\n",
    "print(f'\\ntime delay: {abs(del_t)} seconds')\n",
    "print(f'∇d: {del_d} meters')"
   ]
  },
  {
   "cell_type": "code",
   "execution_count": 68,
   "id": "0d0b4762",
   "metadata": {},
   "outputs": [
    {
     "name": "stdout",
     "output_type": "stream",
     "text": [
      "\n",
      ">> processing simulation #nsb: Done!! Time taken: 0.1777 sec\n"
     ]
    }
   ],
   "source": [
    "sim_tm.end()"
   ]
  },
  {
   "cell_type": "markdown",
   "id": "cfacb75d",
   "metadata": {},
   "source": [
    "# Capon Method"
   ]
  },
  {
   "cell_type": "code",
   "execution_count": 69,
   "id": "e84b1752",
   "metadata": {},
   "outputs": [],
   "source": [
    "sim_tm.start(message=\"processing simulation #capon\")"
   ]
  },
  {
   "cell_type": "code",
   "execution_count": 70,
   "id": "01a8fb60",
   "metadata": {},
   "outputs": [],
   "source": [
    "M = P*Q # number of antenna elements (sensors)\n",
    "pos_angles = ris_angles+ue_angles\n",
    "Rss = np.eye((2))# correlation matrix of the information symbols\n",
    "Rnn = 0.1*np.eye((M))# correlation matrix of additive noise\n",
    "A = find_steering_matrix(wavelength=lamda, pos_angles=pos_angles, planar_antenna_shape=(P,Q)) # steering vectors\n",
    "R = A @ Rss @ np.conj(A).T + Rnn # correlation matrix\n",
    "g = np.array([1,1]) # gate array: both DoAs are \"switched on\""
   ]
  },
  {
   "cell_type": "code",
   "execution_count": 71,
   "id": "6c70947c",
   "metadata": {},
   "outputs": [
    {
     "name": "stdout",
     "output_type": "stream",
     "text": [
      "H matrix shape(n_antenna,time_instance): (64, 100)\n",
      "covariance matrix shape: (64, 64)\n",
      "\n",
      ">> preparing covariance matrix by Capon: Done!! Time taken: 0.0060 sec\n"
     ]
    }
   ],
   "source": [
    "numrealization = 100 # number of time samples collected at antenna array\n",
    "tm.start(message='preparing covariance matrix by Capon')\n",
    "H = np.zeros((n_antenna,numrealization)) + 1j*np.zeros((n_antenna,numrealization))\n",
    "print('H matrix shape(n_antenna,time_instance):',H.shape)\n",
    "antenna_weight = capon(A,R,g)\n",
    "\n",
    "for iter in range(numrealization):\n",
    "    # random distortions due to propagation medium\n",
    "    #ris\n",
    "    distortion_ris = np.exp(1j*2*np.pi*np.random.rand(1)) \n",
    "    recieved_power_ris = distortion_ris*ris_alphas*antenna_weight\n",
    "    #ue\n",
    "    distortion_ue = np.exp(1j*2*np.pi*np.random.rand(1))\n",
    "    recieved_power_ue = distortion_ue*ue_alphas*antenna_weight\n",
    "    \n",
    "    net_recieved_power = recieved_power_ris+recieved_power_ue\n",
    "    noise = np.sqrt(0.5/snr)*(np.random.randn(n_antenna)+np.random.randn(n_antenna)*1j)\n",
    "    H[:,iter] = net_recieved_power+noise\n",
    "CovMat = H@H.conj().transpose()\n",
    "print('covariance matrix shape:',CovMat.shape)\n",
    "tm.end()"
   ]
  },
  {
   "cell_type": "code",
   "execution_count": 72,
   "id": "eff7b5b6",
   "metadata": {},
   "outputs": [
    {
     "name": "stdout",
     "output_type": "stream",
     "text": [
      "CPU times: total: 0 ns\n",
      "Wall time: 0 ns\n"
     ]
    }
   ],
   "source": [
    "%%time\n",
    "\n",
    "# MUSIC algorithm\n",
    "\n",
    "# DoAsMUSIC, psindB = music(CovMat,\n",
    "#                           L = n_source,\n",
    "#                           N = n_antenna,\n",
    "#                           angles = general_angles,\n",
    "#                           ris_data = ris_angles+ris_vectors,\n",
    "#                           height=None,\n",
    "#                           method='capon')"
   ]
  },
  {
   "cell_type": "code",
   "execution_count": 73,
   "id": "d350ca43",
   "metadata": {},
   "outputs": [],
   "source": [
    "file_path = os.path.join(repo_dir,'Data','psindB-Capon.pkl')\n",
    "# with open(file_path, 'wb') as file:\n",
    "#     pkl.dump(psindB, file)\n",
    "    \n",
    "with open(file_path, 'rb') as file:\n",
    "    psindB = pkl.load(file)"
   ]
  },
  {
   "cell_type": "code",
   "execution_count": 74,
   "id": "15500c84",
   "metadata": {},
   "outputs": [
    {
     "name": "stdout",
     "output_type": "stream",
     "text": [
      "detected angles for user equipment: [19.38718662952646, 18.050139275766014]\n",
      "actual UE direction: [[53.571609086160095, 295.64248430081943]]\n",
      "with maximum SINR: 19.93052052968314\n",
      "\n",
      "CPU times: total: 1.67 s\n",
      "Wall time: 145 ms\n"
     ]
    }
   ],
   "source": [
    "%%time\n",
    "signal_samples = 10\n",
    "DoAsMUSIC,_= ss.find_peaks(psindB)\n",
    "indies = np.argsort(psindB[DoAsMUSIC])[-1*signal_samples:]\n",
    "samples = np.array(general_angles)[DoAsMUSIC][indies]\n",
    "\n",
    "sinr = SINR(ris_power = ris_alphas,\n",
    "            ue_power = ue_alphas,\n",
    "            ue_angles = samples,\n",
    "            ris_data = ris_angles+ris_vectors,\n",
    "            snr = 10)\n",
    "detected_ue_angles = samples[np.argmax(sinr)].tolist()\n",
    "print('detected angles for user equipment:',detected_ue_angles)\n",
    "print('actual UE direction:',ue_angles)\n",
    "print('with maximum SINR:',np.max(sinr))\n",
    "print()"
   ]
  },
  {
   "cell_type": "code",
   "execution_count": 75,
   "id": "767c8360",
   "metadata": {},
   "outputs": [
    {
     "name": "stdout",
     "output_type": "stream",
     "text": [
      "CPU times: total: 0 ns\n",
      "Wall time: 0 ns\n",
      "RIS\n",
      "---\n",
      "amplitude: 0.004673095319066681\n",
      "phase: 155.49114669609588\n",
      "\n",
      "User Equipement\n",
      "---------------\n",
      "amplitude: 0.0016318635477600234\n",
      "phase: 177.6264762737628\n",
      "\n",
      "time delay: 2.0495675534876768e-10 seconds\n",
      "∇d: 0.061487026604630304 meters\n"
     ]
    }
   ],
   "source": [
    "%time\n",
    "\n",
    "frequency = 3e8  \n",
    "speed= frequency*lamda\n",
    "duration = 5\n",
    "sampling_rate=50 # >2*frequency\n",
    "ue_angle = samples[np.argmax(sinr)].tolist()\n",
    "ris_data=ris_angles+ris_vectors\n",
    "pos_angles = [ris_data[0]]+[ue_angle]\n",
    "A = find_steering_matrix(wavelength=lamda, pos_angles=pos_angles, planar_antenna_shape=(P,Q)) # steering vectors\n",
    "R = A @ Rss @ np.conj(A).T + Rnn # correlation matrix\n",
    "g = np.array([1,1]) # gate array: both DoAs are \"switched on\"\n",
    "weights = capon(A,R,g)\n",
    "\n",
    "#ris\n",
    "distortion_ris = np.exp(1j*2*np.pi*np.random.default_rng(seed=42).random(1)) \n",
    "recieved_power_ris = np.sum(distortion_ris*ris_alphas*weights)/n_antenna\n",
    "ris_time, ris_sinusoidal_wave = complex_to_sinusoidal(recieved_power_ris, \n",
    "                                                      frequency, \n",
    "                                                      duration,\n",
    "                                                      sampling_rate=sampling_rate)\n",
    "\n",
    "#ue\n",
    "distortion_ue = np.exp(1j*2*np.pi*np.random.default_rng(seed=21+np.argmax(sinr)).random(1))\n",
    "recieved_power_ue = np.sum(distortion_ue*ue_alphas*weights)/n_antenna\n",
    "ue_time, ue_sinusoidal_wave = complex_to_sinusoidal(recieved_power_ue, \n",
    "                                                    frequency, \n",
    "                                                    duration,\n",
    "                                                    sampling_rate=sampling_rate)\n",
    "\n",
    "print('RIS\\n---')\n",
    "print('amplitude:',np.abs(recieved_power_ris))\n",
    "phase_ris = np.angle(recieved_power_ris)*180/np.pi\n",
    "print('phase:',phase_ris)\n",
    "\n",
    "print('\\nUser Equipement\\n---------------')\n",
    "print('amplitude:',np.abs(recieved_power_ue))\n",
    "phase_ue = np.angle(recieved_power_ue)*180/np.pi\n",
    "print('phase:',phase_ue)\n",
    "\n",
    "phase_diff = abs(phase_ris-phase_ue)\n",
    "omega = 360*frequency\n",
    "del_t = phase_diff/omega\n",
    "del_d = speed*del_t\n",
    "\n",
    "print(f'\\ntime delay: {abs(del_t)} seconds')\n",
    "print(f'∇d: {del_d} meters')"
   ]
  },
  {
   "cell_type": "code",
   "execution_count": 76,
   "id": "379212c6",
   "metadata": {},
   "outputs": [
    {
     "name": "stdout",
     "output_type": "stream",
     "text": [
      "\n",
      ">> processing simulation #capon: Done!! Time taken: 0.2152 sec\n"
     ]
    }
   ],
   "source": [
    "sim_tm.end()"
   ]
  },
  {
   "cell_type": "markdown",
   "id": "d0a53cb2",
   "metadata": {},
   "source": [
    "# Bartlett's Method"
   ]
  },
  {
   "cell_type": "code",
   "execution_count": 77,
   "id": "1c44e041",
   "metadata": {},
   "outputs": [],
   "source": [
    "sim_tm.start(message=\"processing simulation #bartlett\")"
   ]
  },
  {
   "cell_type": "code",
   "execution_count": 78,
   "id": "2c894c6d",
   "metadata": {},
   "outputs": [],
   "source": [
    "M = P*Q # number of antenna elements (sensors)\n",
    "A = find_steering_matrix(wavelength=lamda, pos_angles=pos_angles, planar_antenna_shape=(P,Q)) # steering vectors"
   ]
  },
  {
   "cell_type": "code",
   "execution_count": 79,
   "id": "cb4cf24b",
   "metadata": {},
   "outputs": [
    {
     "name": "stdout",
     "output_type": "stream",
     "text": [
      "H matrix shape(n_antenna,time_instance): (64, 100)\n",
      "covariance matrix shape: (64, 64)\n",
      "\n",
      ">> preparing covariance matrix by Bartlett: Done!! Time taken: 0.0063 sec\n"
     ]
    }
   ],
   "source": [
    "numrealization = 100 # number of time samples collected at antenna array\n",
    "tm.start(message='preparing covariance matrix by Bartlett')\n",
    "H = np.zeros((n_antenna,numrealization)) + 1j*np.zeros((n_antenna,numrealization))\n",
    "print('H matrix shape(n_antenna,time_instance):',H.shape)\n",
    "antenna_weight = np.average(A,axis=1)/M\n",
    "\n",
    "for iter in range(numrealization):\n",
    "    # random distortions due to propagation medium\n",
    "    #ris\n",
    "    distortion_ris = np.exp(1j*2*np.pi*np.random.rand(1)) \n",
    "    recieved_power_ris = distortion_ris*ris_alphas*antenna_weight\n",
    "    #ue\n",
    "    distortion_ue = np.exp(1j*2*np.pi*np.random.rand(1))\n",
    "    recieved_power_ue = distortion_ue*ue_alphas*antenna_weight\n",
    "    \n",
    "    net_recieved_power = recieved_power_ris+recieved_power_ue\n",
    "    noise = np.sqrt(0.5/snr)*(np.random.randn(n_antenna)+np.random.randn(n_antenna)*1j)\n",
    "    H[:,iter] = net_recieved_power+noise\n",
    "CovMat = H@H.conj().transpose()\n",
    "print('covariance matrix shape:',CovMat.shape)\n",
    "tm.end()"
   ]
  },
  {
   "cell_type": "code",
   "execution_count": 80,
   "id": "e50be4f3",
   "metadata": {},
   "outputs": [
    {
     "name": "stdout",
     "output_type": "stream",
     "text": [
      "CPU times: total: 0 ns\n",
      "Wall time: 0 ns\n"
     ]
    }
   ],
   "source": [
    "%%time\n",
    "\n",
    "# MUSIC algorithm\n",
    "\n",
    "# DoAsMUSIC, psindB = music(CovMat,\n",
    "#                           L = n_source,\n",
    "#                           N = n_antenna,\n",
    "#                           angles = general_angles,\n",
    "#                           ris_data = ris_angles+ris_vectors,\n",
    "#                           height=None,\n",
    "#                           method='bartlett')"
   ]
  },
  {
   "cell_type": "code",
   "execution_count": 81,
   "id": "7272c921",
   "metadata": {},
   "outputs": [],
   "source": [
    "file_path = os.path.join(repo_dir,'Data','psindB-Bartlett.pkl')\n",
    "# with open(file_path, 'wb') as file:\n",
    "#     pkl.dump(psindB, file)\n",
    "    \n",
    "with open(file_path, 'rb') as file:\n",
    "    psindB = pkl.load(file)"
   ]
  },
  {
   "cell_type": "code",
   "execution_count": 82,
   "id": "52763bee",
   "metadata": {},
   "outputs": [
    {
     "name": "stdout",
     "output_type": "stream",
     "text": [
      "detected angles for user equipment: [13.370473537604456, 351.9777158774373]\n",
      "actual UE direction: [[53.571609086160095, 295.64248430081943]]\n",
      "with maximum SINR: 19.86133481190123\n",
      "\n",
      "CPU times: total: 1.12 s\n",
      "Wall time: 98.1 ms\n"
     ]
    }
   ],
   "source": [
    "%%time\n",
    "signal_samples = 10\n",
    "DoAsMUSIC,_= ss.find_peaks(psindB)\n",
    "indies = np.argsort(psindB[DoAsMUSIC])[-1*signal_samples:]\n",
    "samples = np.array(general_angles)[DoAsMUSIC][indies]\n",
    "\n",
    "sinr = SINR(ris_power = ris_alphas,\n",
    "            ue_power = ue_alphas,\n",
    "            ue_angles = samples,\n",
    "            ris_data = ris_angles+ris_vectors,\n",
    "            snr = 10)\n",
    "detected_ue_angles = samples[np.argmax(sinr)].tolist()\n",
    "print('detected angles for user equipment:',detected_ue_angles)\n",
    "print('actual UE direction:',ue_angles)\n",
    "print('with maximum SINR:',np.max(sinr))\n",
    "print()"
   ]
  },
  {
   "cell_type": "code",
   "execution_count": 83,
   "id": "da666455",
   "metadata": {},
   "outputs": [
    {
     "name": "stdout",
     "output_type": "stream",
     "text": [
      "CPU times: total: 0 ns\n",
      "Wall time: 0 ns\n",
      "RIS\n",
      "---\n",
      "amplitude: 0.003613831771880581\n",
      "phase: 175.23559135332638\n",
      "\n",
      "User Equipement\n",
      "---------------\n",
      "amplitude: 0.001261964486837549\n",
      "phase: -162.62907906900674\n",
      "\n",
      "time delay: 3.1283765779845657e-09 seconds\n",
      "∇d: 0.9385129733953698 meters\n"
     ]
    }
   ],
   "source": [
    "%time\n",
    "\n",
    "frequency = 3e8 #40e9  \n",
    "speed= frequency*lamda\n",
    "duration = 5\n",
    "sampling_rate=50 # >2*frequency\n",
    "ue_angle = samples[np.argmax(sinr)].tolist()\n",
    "ris_data=ris_angles+ris_vectors\n",
    "\n",
    "pos_angles = [ris_data[0]]+[ue_angle]\n",
    "A = find_steering_matrix(wavelength=lamda, pos_angles=pos_angles, planar_antenna_shape=(P,Q)) # steering vectors\n",
    "weights = np.average(A,axis=1)/M\n",
    "\n",
    "#ris\n",
    "distortion_ris = np.exp(1j*2*np.pi*np.random.default_rng(seed=42).random(1)) \n",
    "recieved_power_ris = np.sum(distortion_ris*ris_alphas*weights)/n_antenna\n",
    "ris_time, ris_sinusoidal_wave = complex_to_sinusoidal(recieved_power_ris, \n",
    "                                                      frequency, \n",
    "                                                      duration,\n",
    "                                                      sampling_rate=sampling_rate)\n",
    "\n",
    "#ue\n",
    "distortion_ue = np.exp(1j*2*np.pi*np.random.default_rng(seed=21+np.argmax(sinr)).random(1))\n",
    "recieved_power_ue = np.sum(distortion_ue*ue_alphas*weights)/n_antenna\n",
    "ue_time, ue_sinusoidal_wave = complex_to_sinusoidal(recieved_power_ue, \n",
    "                                                    frequency, \n",
    "                                                    duration,\n",
    "                                                    sampling_rate=sampling_rate)\n",
    "\n",
    "print('RIS\\n---')\n",
    "print('amplitude:',np.abs(recieved_power_ris))\n",
    "phase_ris = np.angle(recieved_power_ris)*180/np.pi\n",
    "print('phase:',phase_ris)\n",
    "\n",
    "print('\\nUser Equipement\\n---------------')\n",
    "print('amplitude:',np.abs(recieved_power_ue))\n",
    "phase_ue = np.angle(recieved_power_ue)*180/np.pi\n",
    "print('phase:',phase_ue)\n",
    "\n",
    "phase_diff = abs(phase_ris-phase_ue)\n",
    "omega = 360*frequency\n",
    "del_t = phase_diff/omega\n",
    "del_d = speed*del_t\n",
    "\n",
    "# time_delay = find_time_delay(ue_sinusoidal_wave, ris_sinusoidal_wave, sampling_rate)\n",
    "\n",
    "print(f'\\ntime delay: {abs(del_t)} seconds')\n",
    "print(f'∇d: {del_d} meters')"
   ]
  },
  {
   "cell_type": "code",
   "execution_count": 84,
   "id": "22e4483c",
   "metadata": {},
   "outputs": [
    {
     "name": "stdout",
     "output_type": "stream",
     "text": [
      "\n",
      ">> processing simulation #bartlett: Done!! Time taken: 0.1728 sec\n"
     ]
    }
   ],
   "source": [
    "sim_tm.end()"
   ]
  }
 ],
 "metadata": {
  "kernelspec": {
   "display_name": "Python 3 (ipykernel)",
   "language": "python",
   "name": "python3"
  },
  "language_info": {
   "codemirror_mode": {
    "name": "ipython",
    "version": 3
   },
   "file_extension": ".py",
   "mimetype": "text/x-python",
   "name": "python",
   "nbconvert_exporter": "python",
   "pygments_lexer": "ipython3",
   "version": "3.11.4"
  }
 },
 "nbformat": 4,
 "nbformat_minor": 5
}
