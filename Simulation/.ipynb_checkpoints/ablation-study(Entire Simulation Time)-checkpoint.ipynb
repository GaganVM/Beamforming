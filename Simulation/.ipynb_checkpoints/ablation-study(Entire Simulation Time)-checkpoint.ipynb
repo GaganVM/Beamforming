{
 "cells": [
  {
   "cell_type": "code",
   "execution_count": 3,
   "id": "28a13b84",
   "metadata": {},
   "outputs": [],
   "source": [
    "import matplotlib.pyplot as plt\n",
    "import pickle as pkl\n",
    "import numpy as np\n",
    "import scipy.signal as ss\n",
    "import os\n",
    "import warnings\n",
    "warnings.filterwarnings(\"ignore\")\n",
    "\n",
    "from weight import array_weight_vector\n",
    "from utils import *\n",
    "from doa import music\n",
    "\n",
    "repo_dir = os.getcwd()\n",
    "tm = Time()"
   ]
  },
  {
   "cell_type": "markdown",
   "id": "1c7d45d1",
   "metadata": {},
   "source": [
    "## Sample Location Generation For Testing"
   ]
  },
  {
   "cell_type": "code",
   "execution_count": 4,
   "id": "f85ffa0e",
   "metadata": {},
   "outputs": [
    {
     "name": "stdout",
     "output_type": "stream",
     "text": [
      "\n",
      "simulation sample data\n",
      "----------------------\n",
      "random signal direction #polar: [53.57160909 19.91878832]\n",
      "random signal direction #azimuthal: [295.6424843   15.01078526]\n",
      "\n",
      "base station locations: [0, 0, 0]\n",
      "\n",
      "RIS \n",
      "direction vectors: [[0.006067509241204118, 2.7744162567926823e-05, 0.9999815921115096]]\n",
      "direction angles: [[19.918788318070632, 15.010785261089966]]\n",
      "power: [-1.75841946+0.64576634j]\n",
      "\n",
      "user equipment \n",
      "direction vectors: [[0.016251992379168842, 0.0014675892375824373, 0.9998668505983872]]\n",
      "direction angles: [[53.571609086160095, 295.64248430081943]]\n",
      "power: [0.15402256-0.63575391j]\n"
     ]
    }
   ],
   "source": [
    "%matplotlib notebook\n",
    "np.random.seed(6)\n",
    "\n",
    "P,Q = 8,8 # rows and columns of antenna array\n",
    "lamda = 1 # wavelength\n",
    "ue = 1  # number of user equipments\n",
    "ris = 1  # number of RIS\n",
    "n_source = ue+ris\n",
    "n_antenna = P*Q  # number of antenna elements \n",
    "snr = 10\n",
    "\n",
    "print('\\nsimulation sample data\\n----------------------')\n",
    "array = np.linspace(0,(n_antenna-1)/2,n_antenna)\n",
    "\n",
    "# angle for RIS would be added\n",
    "p_thetas = (np.pi/3)*(np.random.rand(n_source))   # random source polar directions\n",
    "az_thetas = (2*np.pi)*(np.random.rand(n_source))   # random source azimuthal directions\n",
    "\n",
    "# power from RIS would be added\n",
    "ue_alphas = np.sqrt(1/2)*(np.random.randn(ue) + np.random.randn(ue)*1j) # random UE powers\n",
    "ris_alphas = np.sqrt(1/2)*(np.random.randn(ris) + np.random.randn(ris)*1j) # random RIS powers\n",
    "\n",
    "print('random signal direction #polar:',p_thetas*180/np.pi)\n",
    "print('random signal direction #azimuthal:',az_thetas*180/np.pi)\n",
    "\n",
    "ue_vectors, ris_vectors = [],[]\n",
    "ue_angles, ris_angles = [], []\n",
    "for polar,az in zip(p_thetas[:ue],az_thetas[:ue]):\n",
    "    ue_vectors.append(find_position_vector(polar,az))\n",
    "    ue_angles.append([polar*180/np.pi,az*180/np.pi])\n",
    "\n",
    "for polar,az in zip(p_thetas[ue:],az_thetas[ue:]):\n",
    "    ris_vectors.append(find_position_vector(polar,az))\n",
    "    ris_angles.append([polar*180/np.pi,az*180/np.pi])\n",
    "\n",
    "bs_vector = [0,0,0]\n",
    "print('\\nbase station locations:',bs_vector)\n",
    "print(f'\\nRIS \\ndirection vectors: {ris_vectors}\\ndirection angles: {ris_angles}\\npower: {ris_alphas}')\n",
    "print(f'\\nuser equipment \\ndirection vectors: {ue_vectors}\\ndirection angles: {ue_angles}\\npower: {ue_alphas}')"
   ]
  },
  {
   "cell_type": "markdown",
   "id": "694846fb",
   "metadata": {},
   "source": [
    "## Sample Data Generation"
   ]
  },
  {
   "cell_type": "code",
   "execution_count": 5,
   "id": "5a37a717",
   "metadata": {},
   "outputs": [
    {
     "name": "stdout",
     "output_type": "stream",
     "text": [
      "Total sample location collected: 129600\n"
     ]
    }
   ],
   "source": [
    "numAngles = 360\n",
    "p_angles = np.linspace(0,np.pi/3,numAngles)*180/np.pi\n",
    "az_angles = np.linspace(0,2*np.pi,numAngles)*180/np.pi\n",
    "general_angles = np.array(np.meshgrid(p_angles,az_angles)).T.reshape(-1, 2).tolist()\n",
    "print('Total sample location collected:', len(general_angles))"
   ]
  },
  {
   "cell_type": "markdown",
   "id": "6cbf6693",
   "metadata": {},
   "source": [
    "# Deep Learning"
   ]
  },
  {
   "cell_type": "code",
   "execution_count": 8,
   "id": "810d5408",
   "metadata": {},
   "outputs": [],
   "source": [
    "sim_tm = Time()\n",
    "sim_tm.start(message=\"processing simulation #deep-learning\")"
   ]
  },
  {
   "cell_type": "code",
   "execution_count": 9,
   "id": "10bf69f8",
   "metadata": {},
   "outputs": [
    {
     "name": "stdout",
     "output_type": "stream",
     "text": [
      "H matrix shape(n_antenna,time_instance): (64, 100)\n",
      "covariance matrix shape: (64, 64)\n",
      "\n",
      ">> preparing covariance matrix by DL: Done!! Time taken: 0.0127 sec\n"
     ]
    }
   ],
   "source": [
    "numrealization = 100 # number of time samples collected at antenna array\n",
    "tm.start(message='preparing covariance matrix by DL')\n",
    "H = np.zeros((n_antenna,numrealization)) + 1j*np.zeros((n_antenna,numrealization))\n",
    "print('H matrix shape(n_antenna,time_instance):',H.shape)\n",
    "antenna_weight = array_weight_vector(ris_vectors,\n",
    "                                     ue_vectors,\n",
    "                                     ris_angles,\n",
    "                                     ue_angles,\n",
    "                                     vector=True,\n",
    "                                     angle=True,)\n",
    "\n",
    "for iter in range(numrealization):\n",
    "    # random distortions due to propagation medium\n",
    "    #ris\n",
    "    distortion_ris = np.exp(1j*2*np.pi*np.random.rand(1)) \n",
    "    recieved_power_ris = distortion_ris*ris_alphas*antenna_weight\n",
    "    #ue\n",
    "    distortion_ue = np.exp(1j*2*np.pi*np.random.rand(1))\n",
    "    recieved_power_ue = distortion_ue*ue_alphas*antenna_weight\n",
    "    \n",
    "    net_recieved_power = recieved_power_ris+recieved_power_ue\n",
    "    noise = np.sqrt(0.5/snr)*(np.random.randn(n_antenna)+np.random.randn(n_antenna)*1j)\n",
    "    H[:,iter] = net_recieved_power+noise\n",
    "CovMat = H@H.conj().transpose()\n",
    "print('covariance matrix shape:',CovMat.shape)\n",
    "tm.end()"
   ]
  },
  {
   "cell_type": "code",
   "execution_count": 10,
   "id": "1f37a885",
   "metadata": {},
   "outputs": [
    {
     "name": "stdout",
     "output_type": "stream",
     "text": [
      "CPU times: user 3 µs, sys: 1e+03 ns, total: 4 µs\n",
      "Wall time: 6.91 µs\n"
     ]
    }
   ],
   "source": [
    "%%time\n",
    "\n",
    "# MUSIC algorithm\n",
    "\n",
    "# DoAsMUSIC, psindB = music(CovMat,\n",
    "#                           L = n_source,\n",
    "#                           N = n_antenna,\n",
    "#                           angles = general_angles,\n",
    "#                           ris_data = ris_angles+ris_vectors,\n",
    "#                           height=None,\n",
    "#                           method='dl')"
   ]
  },
  {
   "cell_type": "code",
   "execution_count": 11,
   "id": "1177b287",
   "metadata": {},
   "outputs": [],
   "source": [
    "file_path = os.path.join(repo_dir,'data','psindB.pkl')\n",
    "# with open(file_path, 'wb') as file:\n",
    "#     pkl.dump(psindB, file)\n",
    "    \n",
    "with open(file_path, 'rb') as file:\n",
    "    psindB = pkl.load(file)"
   ]
  },
  {
   "cell_type": "code",
   "execution_count": 12,
   "id": "ed1c723e",
   "metadata": {},
   "outputs": [
    {
     "name": "stdout",
     "output_type": "stream",
     "text": [
      "detected angles for user equipment: [52.144846796657376, 291.81058495821725]\n",
      "actual UE direction: [[53.571609086160095, 295.64248430081943]]\n",
      "with maximum SINR: 19.863532890494675\n",
      "\n",
      "CPU times: user 241 ms, sys: 8.03 ms, total: 249 ms\n",
      "Wall time: 88.3 ms\n"
     ]
    }
   ],
   "source": [
    "%%time\n",
    "signal_samples = 10\n",
    "DoAsMUSIC,_= ss.find_peaks(psindB)\n",
    "indies = np.argsort(psindB[DoAsMUSIC])[-1*signal_samples:]\n",
    "samples = np.array(general_angles)[DoAsMUSIC][indies]\n",
    "\n",
    "sinr = SINR(ris_power = ris_alphas,\n",
    "            ue_power = ue_alphas,\n",
    "            ue_angles = samples,\n",
    "            ris_data = ris_angles+ris_vectors,\n",
    "            snr = 10)\n",
    "detected_ue_angles = samples[np.argmax(sinr)].tolist()\n",
    "print('detected angles for user equipment:',detected_ue_angles)\n",
    "print('actual UE direction:',ue_angles)\n",
    "print('with maximum SINR:',np.max(sinr))\n",
    "print()"
   ]
  },
  {
   "cell_type": "code",
   "execution_count": 13,
   "id": "e802a934",
   "metadata": {},
   "outputs": [
    {
     "name": "stdout",
     "output_type": "stream",
     "text": [
      "RIS\n",
      "---\n",
      "amplitude: 1.3278153880242975\n",
      "phase: 121.81171352810618\n",
      "\n",
      "User Equipement\n",
      "---------------\n",
      "amplitude: 0.4636784362242461\n",
      "phase: 143.9470431057731\n",
      "\n",
      "time delay: 2.049567553487678e-10 seconds\n",
      "∇d: 0.061487026604630346 meters\n"
     ]
    }
   ],
   "source": [
    "%matplotlib inline\n",
    "\n",
    "frequency = 3e8\n",
    "duration = 5\n",
    "sampling_rate=50 \n",
    "speed= frequency*lamda\n",
    "ue_angle = samples[np.argmax(sinr)].tolist()\n",
    "specified_vector = find_position_vector(ue_angle[0],ue_angle[1])\n",
    "ris_data=ris_angles+ris_vectors\n",
    "weights = array_weight_vector(ris_vectors=[ris_data[1]],\n",
    "                              ue_vectors=[specified_vector],\n",
    "                              ris_angles=[ris_data[0]],\n",
    "                              ue_angles=[ue_angle],\n",
    "                              vector=True,\n",
    "                              angle=True\n",
    "                             )\n",
    "\n",
    "#ris\n",
    "distortion_ris = np.exp(1j*2*np.pi*np.random.default_rng(seed=42).random(1)) \n",
    "recieved_power_ris = np.sum(distortion_ris*ris_alphas*weights)/n_antenna\n",
    "ris_time, ris_sinusoidal_wave = complex_to_sinusoidal(recieved_power_ris, \n",
    "                                                      frequency, \n",
    "                                                      duration,\n",
    "                                                      sampling_rate=sampling_rate)\n",
    "\n",
    "#ue\n",
    "distortion_ue = np.exp(1j*2*np.pi*np.random.default_rng(seed=21+np.argmax(sinr)).random(1))\n",
    "recieved_power_ue = np.sum(distortion_ue*ue_alphas*weights)/n_antenna\n",
    "ue_time, ue_sinusoidal_wave = complex_to_sinusoidal(recieved_power_ue, \n",
    "                                                    frequency, \n",
    "                                                    duration,\n",
    "                                                    sampling_rate=sampling_rate)\n",
    "\n",
    "print('RIS\\n---')\n",
    "print('amplitude:',np.abs(recieved_power_ris))\n",
    "phase_ris = np.angle(recieved_power_ris)*180/np.pi\n",
    "print('phase:',phase_ris)\n",
    "\n",
    "print('\\nUser Equipement\\n---------------')\n",
    "print('amplitude:',np.abs(recieved_power_ue))\n",
    "phase_ue = np.angle(recieved_power_ue)*180/np.pi\n",
    "print('phase:',phase_ue)\n",
    "\n",
    "phase_diff = abs(phase_ris-phase_ue)\n",
    "omega = 360*frequency\n",
    "del_t = phase_diff/omega\n",
    "del_d = speed*del_t\n",
    "\n",
    "print(f'\\ntime delay: {abs(del_t)} seconds')\n",
    "print(f'∇d: {del_d} meters')"
   ]
  },
  {
   "cell_type": "code",
   "execution_count": 14,
   "id": "cd6d0e61",
   "metadata": {},
   "outputs": [
    {
     "name": "stdout",
     "output_type": "stream",
     "text": [
      "\n",
      ">> processing simulation #deep-learning: Done!! Time taken: 1.7559 sec\n"
     ]
    }
   ],
   "source": [
    "sim_tm.end()"
   ]
  },
  {
   "cell_type": "markdown",
   "id": "3fb77d23",
   "metadata": {},
   "source": [
    "# NSB Algorithm"
   ]
  },
  {
   "cell_type": "code",
   "execution_count": 15,
   "id": "c0b9df8f",
   "metadata": {},
   "outputs": [],
   "source": [
    "sim_tm.start(message=\"processing simulation #nsb\")"
   ]
  },
  {
   "cell_type": "code",
   "execution_count": 16,
   "id": "3c21aa62",
   "metadata": {},
   "outputs": [
    {
     "name": "stdout",
     "output_type": "stream",
     "text": [
      "H matrix shape(n_antenna,time_instance): (64, 100)\n",
      "covariance matrix shape: (64, 64)\n",
      "\n",
      ">> preparing covariance matrix by NSB: Done!! Time taken: 0.0072 sec\n"
     ]
    }
   ],
   "source": [
    "numrealization = 100 # number of time samples collected at antenna array\n",
    "tm.start(message='preparing covariance matrix by NSB')\n",
    "H = np.zeros((n_antenna,numrealization)) + 1j*np.zeros((n_antenna,numrealization))\n",
    "print('H matrix shape(n_antenna,time_instance):',H.shape)\n",
    "antenna_weight = nsb(P,Q, wavelength=lamda, pos_angles=ris_angles+ue_angles).reshape(-1,)\n",
    "\n",
    "for iter in range(numrealization):\n",
    "    # random distortions due to propagation medium\n",
    "    #ris\n",
    "    distortion_ris = np.exp(1j*2*np.pi*np.random.rand(1)) \n",
    "    recieved_power_ris = distortion_ris*ris_alphas*antenna_weight\n",
    "    #ue\n",
    "    distortion_ue = np.exp(1j*2*np.pi*np.random.rand(1))\n",
    "    recieved_power_ue = distortion_ue*ue_alphas*antenna_weight\n",
    "    \n",
    "    net_recieved_power = recieved_power_ris+recieved_power_ue\n",
    "    noise = np.sqrt(0.5/snr)*(np.random.randn(n_antenna)+np.random.randn(n_antenna)*1j)\n",
    "    H[:,iter] = net_recieved_power+noise\n",
    "CovMat = H@H.conj().transpose()\n",
    "print('covariance matrix shape:',CovMat.shape)\n",
    "tm.end()"
   ]
  },
  {
   "cell_type": "code",
   "execution_count": 17,
   "id": "b4327dbd",
   "metadata": {},
   "outputs": [
    {
     "data": {
      "application/vnd.jupyter.widget-view+json": {
       "model_id": "7b4b26046c174e10990b33b9f5eda9b2",
       "version_major": 2,
       "version_minor": 0
      },
      "text/plain": [
       "Processing Angles:   0%|          | 0/129600 [00:00<?, ?it/s]"
      ]
     },
     "metadata": {},
     "output_type": "display_data"
    },
    {
     "name": "stdout",
     "output_type": "stream",
     "text": [
      "CPU times: user 1min 2s, sys: 305 ms, total: 1min 3s\n",
      "Wall time: 1min 2s\n"
     ]
    }
   ],
   "source": [
    "%%time\n",
    "\n",
    "# MUSIC algorithm\n",
    "\n",
    "# DoAsMUSIC, psindB = music(CovMat,\n",
    "#                           L = n_source,\n",
    "#                           N = n_antenna,\n",
    "#                           angles = general_angles,\n",
    "#                           ris_data = ris_angles+ris_vectors,\n",
    "#                           height=None,\n",
    "#                           method='nsb')"
   ]
  },
  {
   "cell_type": "code",
   "execution_count": 19,
   "id": "f22a83aa",
   "metadata": {},
   "outputs": [],
   "source": [
    "file_path = os.path.join(repo_dir,'data','psindB-NSB.pkl')\n",
    "# with open(file_path, 'wb') as file:\n",
    "#     pkl.dump(psindB, file)\n",
    "    \n",
    "with open(file_path, 'rb') as file:\n",
    "    psindB = pkl.load(file)"
   ]
  },
  {
   "cell_type": "code",
   "execution_count": 24,
   "id": "bedb62b8",
   "metadata": {},
   "outputs": [
    {
     "name": "stdout",
     "output_type": "stream",
     "text": [
      "detected angles for user equipment: [50.47353760445682, 166.46239554317546]\n",
      "actual UE direction: [[53.571609086160095, 295.64248430081943]]\n",
      "with maximum SINR: 19.941919157333203\n",
      "\n",
      "CPU times: user 247 ms, sys: 12.1 ms, total: 259 ms\n",
      "Wall time: 95.3 ms\n"
     ]
    }
   ],
   "source": [
    "%%time\n",
    "signal_samples = 10\n",
    "DoAsMUSIC,_= ss.find_peaks(psindB)\n",
    "indies = np.argsort(psindB[DoAsMUSIC])[-1*signal_samples:]\n",
    "samples = np.array(general_angles)[DoAsMUSIC][indies]\n",
    "\n",
    "sinr = SINR(ris_power = ris_alphas,\n",
    "            ue_power = ue_alphas,\n",
    "            ue_angles = samples,\n",
    "            ris_data = ris_angles+ris_vectors,\n",
    "            snr = 10)\n",
    "detected_ue_angles = samples[np.argmax(sinr)].tolist()\n",
    "print('detected angles for user equipment:',detected_ue_angles)\n",
    "print('actual UE direction:',ue_angles)\n",
    "print('with maximum SINR:',np.max(sinr))\n",
    "print()"
   ]
  },
  {
   "cell_type": "code",
   "execution_count": 27,
   "id": "c37b0719",
   "metadata": {},
   "outputs": [
    {
     "name": "stdout",
     "output_type": "stream",
     "text": [
      "CPU times: user 1e+03 ns, sys: 0 ns, total: 1e+03 ns\n",
      "Wall time: 2.86 µs\n",
      "RIS\n",
      "---\n",
      "amplitude: 0.005060097383855799\n",
      "phase: 161.35846518356476\n",
      "\n",
      "User Equipement\n",
      "---------------\n",
      "amplitude: 0.001767006214304938\n",
      "phase: 138.40307397901347\n",
      "\n",
      "time delay: 2.125499185606601e-10 seconds\n",
      "∇d: 0.06376497556819803 meters\n"
     ]
    }
   ],
   "source": [
    "%time\n",
    "\n",
    "frequency = 3e8 #40e9  \n",
    "speed= frequency*lamda\n",
    "duration = 5\n",
    "sampling_rate=50 # >2*frequency\n",
    "ue_angle = samples[np.argmax(sinr)].tolist()\n",
    "ris_data=ris_angles+ris_vectors\n",
    "weights = nsb(P,Q, wavelength=lamda, pos_angles=[ris_data[0]]+[ue_angle]).reshape(-1,)\n",
    "\n",
    "#ris\n",
    "distortion_ris = np.exp(1j*2*np.pi*np.random.default_rng(seed=42).random(1)) \n",
    "recieved_power_ris = np.sum(distortion_ris*ris_alphas*weights)/n_antenna\n",
    "ris_time, ris_sinusoidal_wave = complex_to_sinusoidal(recieved_power_ris, \n",
    "                                                      frequency, \n",
    "                                                      duration,\n",
    "                                                      sampling_rate=sampling_rate)\n",
    "\n",
    "#ue\n",
    "distortion_ue = np.exp(1j*2*np.pi*np.random.default_rng(seed=21+np.argmax(sinr)).random(1))\n",
    "recieved_power_ue = np.sum(distortion_ue*ue_alphas*weights)/n_antenna\n",
    "ue_time, ue_sinusoidal_wave = complex_to_sinusoidal(recieved_power_ue, \n",
    "                                                    frequency, \n",
    "                                                    duration,\n",
    "                                                    sampling_rate=sampling_rate)\n",
    "\n",
    "print('RIS\\n---')\n",
    "print('amplitude:',np.abs(recieved_power_ris))\n",
    "phase_ris = np.angle(recieved_power_ris)*180/np.pi\n",
    "print('phase:',phase_ris)\n",
    "\n",
    "print('\\nUser Equipement\\n---------------')\n",
    "print('amplitude:',np.abs(recieved_power_ue))\n",
    "phase_ue = np.angle(recieved_power_ue)*180/np.pi\n",
    "print('phase:',phase_ue)\n",
    "\n",
    "phase_diff = abs(phase_ris-phase_ue)\n",
    "omega = 360*frequency\n",
    "del_t = phase_diff/omega\n",
    "del_d = speed*del_t\n",
    "\n",
    "print(f'\\ntime delay: {abs(del_t)} seconds')\n",
    "print(f'∇d: {del_d} meters')"
   ]
  },
  {
   "cell_type": "code",
   "execution_count": null,
   "id": "0d0b4762",
   "metadata": {},
   "outputs": [],
   "source": [
    "sim_tm.end()"
   ]
  },
  {
   "cell_type": "markdown",
   "id": "cfacb75d",
   "metadata": {},
   "source": [
    "# Capon Method"
   ]
  },
  {
   "cell_type": "code",
   "execution_count": 30,
   "id": "e84b1752",
   "metadata": {},
   "outputs": [],
   "source": [
    "sim_tm.start(message=\"processing simulation #capon\")"
   ]
  },
  {
   "cell_type": "code",
   "execution_count": 31,
   "id": "01a8fb60",
   "metadata": {},
   "outputs": [],
   "source": [
    "M = P*Q # number of antenna elements (sensors)\n",
    "pos_angles = ris_angles+ue_angles\n",
    "Rss = np.eye((2))# correlation matrix of the information symbols\n",
    "Rnn = 0.1*np.eye((M))# correlation matrix of additive noise\n",
    "A = find_steering_matrix(wavelength=lamda, pos_angles=pos_angles, planar_antenna_shape=(P,Q)) # steering vectors\n",
    "R = A @ Rss @ np.conj(A).T + Rnn # correlation matrix\n",
    "g = np.array([1,1]) # gate array: both DoAs are \"switched on\""
   ]
  },
  {
   "cell_type": "code",
   "execution_count": 32,
   "id": "6c70947c",
   "metadata": {},
   "outputs": [
    {
     "name": "stdout",
     "output_type": "stream",
     "text": [
      "H matrix shape(n_antenna,time_instance): (64, 100)\n",
      "covariance matrix shape: (64, 64)\n",
      "\n",
      ">> preparing covariance matrix by Capon: Done!! Time taken: 0.0061 sec\n"
     ]
    }
   ],
   "source": [
    "numrealization = 100 # number of time samples collected at antenna array\n",
    "tm.start(message='preparing covariance matrix by Capon')\n",
    "H = np.zeros((n_antenna,numrealization)) + 1j*np.zeros((n_antenna,numrealization))\n",
    "print('H matrix shape(n_antenna,time_instance):',H.shape)\n",
    "antenna_weight = capon(A,R,g)\n",
    "\n",
    "for iter in range(numrealization):\n",
    "    # random distortions due to propagation medium\n",
    "    #ris\n",
    "    distortion_ris = np.exp(1j*2*np.pi*np.random.rand(1)) \n",
    "    recieved_power_ris = distortion_ris*ris_alphas*antenna_weight\n",
    "    #ue\n",
    "    distortion_ue = np.exp(1j*2*np.pi*np.random.rand(1))\n",
    "    recieved_power_ue = distortion_ue*ue_alphas*antenna_weight\n",
    "    \n",
    "    net_recieved_power = recieved_power_ris+recieved_power_ue\n",
    "    noise = np.sqrt(0.5/snr)*(np.random.randn(n_antenna)+np.random.randn(n_antenna)*1j)\n",
    "    H[:,iter] = net_recieved_power+noise\n",
    "CovMat = H@H.conj().transpose()\n",
    "print('covariance matrix shape:',CovMat.shape)\n",
    "tm.end()"
   ]
  },
  {
   "cell_type": "code",
   "execution_count": 33,
   "id": "eff7b5b6",
   "metadata": {},
   "outputs": [
    {
     "data": {
      "application/vnd.jupyter.widget-view+json": {
       "model_id": "2ab427e96fe247a684b28c298370c5ed",
       "version_major": 2,
       "version_minor": 0
      },
      "text/plain": [
       "Processing Angles:   0%|          | 0/129600 [00:00<?, ?it/s]"
      ]
     },
     "metadata": {},
     "output_type": "display_data"
    },
    {
     "name": "stdout",
     "output_type": "stream",
     "text": [
      "CPU times: user 8min 55s, sys: 4.77 s, total: 9min\n",
      "Wall time: 2min 14s\n"
     ]
    }
   ],
   "source": [
    "%%time\n",
    "\n",
    "# MUSIC algorithm\n",
    "\n",
    "# DoAsMUSIC, psindB = music(CovMat,\n",
    "#                           L = n_source,\n",
    "#                           N = n_antenna,\n",
    "#                           angles = general_angles,\n",
    "#                           ris_data = ris_angles+ris_vectors,\n",
    "#                           height=None,\n",
    "#                           method='capon')"
   ]
  },
  {
   "cell_type": "code",
   "execution_count": 34,
   "id": "d350ca43",
   "metadata": {},
   "outputs": [],
   "source": [
    "file_path = os.path.join(repo_dir,'data','psindB-Capon.pkl')\n",
    "# with open(file_path, 'wb') as file:\n",
    "#     pkl.dump(psindB, file)\n",
    "    \n",
    "with open(file_path, 'rb') as file:\n",
    "    psindB = pkl.load(file)"
   ]
  },
  {
   "cell_type": "code",
   "execution_count": 35,
   "id": "15500c84",
   "metadata": {},
   "outputs": [
    {
     "name": "stdout",
     "output_type": "stream",
     "text": [
      "detected angles for user equipment: [19.38718662952646, 18.050139275766014]\n",
      "actual UE direction: [[53.571609086160095, 295.64248430081943]]\n",
      "with maximum SINR: 19.930520635167316\n",
      "\n",
      "CPU times: user 323 ms, sys: 8.03 ms, total: 331 ms\n",
      "Wall time: 88.5 ms\n"
     ]
    }
   ],
   "source": [
    "%%time\n",
    "signal_samples = 10\n",
    "DoAsMUSIC,_= ss.find_peaks(psindB)\n",
    "indies = np.argsort(psindB[DoAsMUSIC])[-1*signal_samples:]\n",
    "samples = np.array(general_angles)[DoAsMUSIC][indies]\n",
    "\n",
    "sinr = SINR(ris_power = ris_alphas,\n",
    "            ue_power = ue_alphas,\n",
    "            ue_angles = samples,\n",
    "            ris_data = ris_angles+ris_vectors,\n",
    "            snr = 10)\n",
    "detected_ue_angles = samples[np.argmax(sinr)].tolist()\n",
    "print('detected angles for user equipment:',detected_ue_angles)\n",
    "print('actual UE direction:',ue_angles)\n",
    "print('with maximum SINR:',np.max(sinr))\n",
    "print()"
   ]
  },
  {
   "cell_type": "code",
   "execution_count": 36,
   "id": "767c8360",
   "metadata": {},
   "outputs": [
    {
     "name": "stdout",
     "output_type": "stream",
     "text": [
      "CPU times: user 3 µs, sys: 0 ns, total: 3 µs\n",
      "Wall time: 4.29 µs\n",
      "RIS\n",
      "---\n",
      "amplitude: 0.004673095319069408\n",
      "phase: 155.49114669596736\n",
      "\n",
      "User Equipement\n",
      "---------------\n",
      "amplitude: 0.001631863547760976\n",
      "phase: 177.62647627363432\n",
      "\n",
      "time delay: 2.049567553487682e-10 seconds\n",
      "∇d: 0.06148702660463046 meters\n"
     ]
    }
   ],
   "source": [
    "%time\n",
    "\n",
    "frequency = 3e8  \n",
    "speed= frequency*lamda\n",
    "duration = 5\n",
    "sampling_rate=50 # >2*frequency\n",
    "ue_angle = samples[np.argmax(sinr)].tolist()\n",
    "ris_data=ris_angles+ris_vectors\n",
    "pos_angles = [ris_data[0]]+[ue_angle]\n",
    "A = find_steering_matrix(wavelength=lamda, pos_angles=pos_angles, planar_antenna_shape=(P,Q)) # steering vectors\n",
    "R = A @ Rss @ np.conj(A).T + Rnn # correlation matrix\n",
    "g = np.array([1,1]) # gate array: both DoAs are \"switched on\"\n",
    "weights = capon(A,R,g)\n",
    "\n",
    "#ris\n",
    "distortion_ris = np.exp(1j*2*np.pi*np.random.default_rng(seed=42).random(1)) \n",
    "recieved_power_ris = np.sum(distortion_ris*ris_alphas*weights)/n_antenna\n",
    "ris_time, ris_sinusoidal_wave = complex_to_sinusoidal(recieved_power_ris, \n",
    "                                                      frequency, \n",
    "                                                      duration,\n",
    "                                                      sampling_rate=sampling_rate)\n",
    "\n",
    "#ue\n",
    "distortion_ue = np.exp(1j*2*np.pi*np.random.default_rng(seed=21+np.argmax(sinr)).random(1))\n",
    "recieved_power_ue = np.sum(distortion_ue*ue_alphas*weights)/n_antenna\n",
    "ue_time, ue_sinusoidal_wave = complex_to_sinusoidal(recieved_power_ue, \n",
    "                                                    frequency, \n",
    "                                                    duration,\n",
    "                                                    sampling_rate=sampling_rate)\n",
    "\n",
    "print('RIS\\n---')\n",
    "print('amplitude:',np.abs(recieved_power_ris))\n",
    "phase_ris = np.angle(recieved_power_ris)*180/np.pi\n",
    "print('phase:',phase_ris)\n",
    "\n",
    "print('\\nUser Equipement\\n---------------')\n",
    "print('amplitude:',np.abs(recieved_power_ue))\n",
    "phase_ue = np.angle(recieved_power_ue)*180/np.pi\n",
    "print('phase:',phase_ue)\n",
    "\n",
    "phase_diff = abs(phase_ris-phase_ue)\n",
    "omega = 360*frequency\n",
    "del_t = phase_diff/omega\n",
    "del_d = speed*del_t\n",
    "\n",
    "print(f'\\ntime delay: {abs(del_t)} seconds')\n",
    "print(f'∇d: {del_d} meters')"
   ]
  },
  {
   "cell_type": "code",
   "execution_count": 37,
   "id": "379212c6",
   "metadata": {},
   "outputs": [
    {
     "name": "stdout",
     "output_type": "stream",
     "text": [
      "\n",
      ">> processing simulation #capon: Done!! Time taken: 137.2459 sec\n"
     ]
    }
   ],
   "source": [
    "sim_tm.end()"
   ]
  },
  {
   "cell_type": "markdown",
   "id": "d0a53cb2",
   "metadata": {},
   "source": [
    "# Bartlett's Method"
   ]
  },
  {
   "cell_type": "code",
   "execution_count": 38,
   "id": "1c44e041",
   "metadata": {},
   "outputs": [],
   "source": [
    "sim_tm.start(message=\"processing simulation #bartlett\")"
   ]
  },
  {
   "cell_type": "code",
   "execution_count": 39,
   "id": "2c894c6d",
   "metadata": {},
   "outputs": [],
   "source": [
    "M = P*Q # number of antenna elements (sensors)\n",
    "A = find_steering_matrix(wavelength=lamda, pos_angles=pos_angles, planar_antenna_shape=(P,Q)) # steering vectors"
   ]
  },
  {
   "cell_type": "code",
   "execution_count": 40,
   "id": "cb4cf24b",
   "metadata": {},
   "outputs": [
    {
     "name": "stdout",
     "output_type": "stream",
     "text": [
      "H matrix shape(n_antenna,time_instance): (64, 100)\n",
      "covariance matrix shape: (64, 64)\n",
      "\n",
      ">> preparing covariance matrix by Bartlett: Done!! Time taken: 0.0067 sec\n"
     ]
    }
   ],
   "source": [
    "numrealization = 100 # number of time samples collected at antenna array\n",
    "tm.start(message='preparing covariance matrix by Bartlett')\n",
    "H = np.zeros((n_antenna,numrealization)) + 1j*np.zeros((n_antenna,numrealization))\n",
    "print('H matrix shape(n_antenna,time_instance):',H.shape)\n",
    "antenna_weight = np.average(A,axis=1)/M\n",
    "\n",
    "for iter in range(numrealization):\n",
    "    # random distortions due to propagation medium\n",
    "    #ris\n",
    "    distortion_ris = np.exp(1j*2*np.pi*np.random.rand(1)) \n",
    "    recieved_power_ris = distortion_ris*ris_alphas*antenna_weight\n",
    "    #ue\n",
    "    distortion_ue = np.exp(1j*2*np.pi*np.random.rand(1))\n",
    "    recieved_power_ue = distortion_ue*ue_alphas*antenna_weight\n",
    "    \n",
    "    net_recieved_power = recieved_power_ris+recieved_power_ue\n",
    "    noise = np.sqrt(0.5/snr)*(np.random.randn(n_antenna)+np.random.randn(n_antenna)*1j)\n",
    "    H[:,iter] = net_recieved_power+noise\n",
    "CovMat = H@H.conj().transpose()\n",
    "print('covariance matrix shape:',CovMat.shape)\n",
    "tm.end()"
   ]
  },
  {
   "cell_type": "code",
   "execution_count": 41,
   "id": "e50be4f3",
   "metadata": {},
   "outputs": [
    {
     "data": {
      "application/vnd.jupyter.widget-view+json": {
       "model_id": "749241dd40764ef68681f37375718f64",
       "version_major": 2,
       "version_minor": 0
      },
      "text/plain": [
       "Processing Angles:   0%|          | 0/129600 [00:00<?, ?it/s]"
      ]
     },
     "metadata": {},
     "output_type": "display_data"
    },
    {
     "name": "stdout",
     "output_type": "stream",
     "text": [
      "CPU times: user 1min 3s, sys: 748 ms, total: 1min 4s\n",
      "Wall time: 1min 3s\n"
     ]
    }
   ],
   "source": [
    "%%time\n",
    "\n",
    "# MUSIC algorithm\n",
    "\n",
    "# DoAsMUSIC, psindB = music(CovMat,\n",
    "#                           L = n_source,\n",
    "#                           N = n_antenna,\n",
    "#                           angles = general_angles,\n",
    "#                           ris_data = ris_angles+ris_vectors,\n",
    "#                           height=None,\n",
    "#                           method='bartlett')"
   ]
  },
  {
   "cell_type": "code",
   "execution_count": 42,
   "id": "7272c921",
   "metadata": {},
   "outputs": [],
   "source": [
    "file_path = os.path.join(repo_dir,'data','psindB-Bartlett.pkl')\n",
    "# with open(file_path, 'wb') as file:\n",
    "#     pkl.dump(psindB, file)\n",
    "    \n",
    "with open(file_path, 'rb') as file:\n",
    "    psindB = pkl.load(file)"
   ]
  },
  {
   "cell_type": "code",
   "execution_count": 43,
   "id": "52763bee",
   "metadata": {},
   "outputs": [
    {
     "name": "stdout",
     "output_type": "stream",
     "text": [
      "detected angles for user equipment: [13.370473537604456, 351.9777158774373]\n",
      "actual UE direction: [[53.571609086160095, 295.64248430081943]]\n",
      "with maximum SINR: 19.86133496181855\n",
      "\n",
      "CPU times: user 223 ms, sys: 3.99 ms, total: 227 ms\n",
      "Wall time: 84 ms\n"
     ]
    }
   ],
   "source": [
    "%%time\n",
    "signal_samples = 10\n",
    "DoAsMUSIC,_= ss.find_peaks(psindB)\n",
    "indies = np.argsort(psindB[DoAsMUSIC])[-1*signal_samples:]\n",
    "samples = np.array(general_angles)[DoAsMUSIC][indies]\n",
    "\n",
    "sinr = SINR(ris_power = ris_alphas,\n",
    "            ue_power = ue_alphas,\n",
    "            ue_angles = samples,\n",
    "            ris_data = ris_angles+ris_vectors,\n",
    "            snr = 10)\n",
    "detected_ue_angles = samples[np.argmax(sinr)].tolist()\n",
    "print('detected angles for user equipment:',detected_ue_angles)\n",
    "print('actual UE direction:',ue_angles)\n",
    "print('with maximum SINR:',np.max(sinr))\n",
    "print()"
   ]
  },
  {
   "cell_type": "code",
   "execution_count": 46,
   "id": "da666455",
   "metadata": {},
   "outputs": [
    {
     "name": "stdout",
     "output_type": "stream",
     "text": [
      "CPU times: user 2 µs, sys: 0 ns, total: 2 µs\n",
      "Wall time: 3.81 µs\n"
     ]
    },
    {
     "ename": "MemoryError",
     "evalue": "Unable to allocate 22.4 GiB for an array with shape (3000000000,) and data type float64",
     "output_type": "error",
     "traceback": [
      "\u001b[0;31m---------------------------------------------------------------------------\u001b[0m",
      "\u001b[0;31mMemoryError\u001b[0m                               Traceback (most recent call last)",
      "Cell \u001b[0;32mIn[46], line 25\u001b[0m\n\u001b[1;32m     23\u001b[0m distortion_ris \u001b[38;5;241m=\u001b[39m np\u001b[38;5;241m.\u001b[39mexp(\u001b[38;5;241m1\u001b[39mj\u001b[38;5;241m*\u001b[39m\u001b[38;5;241m2\u001b[39m\u001b[38;5;241m*\u001b[39mnp\u001b[38;5;241m.\u001b[39mpi\u001b[38;5;241m*\u001b[39mnp\u001b[38;5;241m.\u001b[39mrandom\u001b[38;5;241m.\u001b[39mdefault_rng(seed\u001b[38;5;241m=\u001b[39m\u001b[38;5;241m42\u001b[39m)\u001b[38;5;241m.\u001b[39mrandom(\u001b[38;5;241m1\u001b[39m)) \n\u001b[1;32m     24\u001b[0m recieved_power_ris \u001b[38;5;241m=\u001b[39m np\u001b[38;5;241m.\u001b[39msum(distortion_ris\u001b[38;5;241m*\u001b[39mris_alphas\u001b[38;5;241m*\u001b[39mweights)\u001b[38;5;241m/\u001b[39mn_antenna\n\u001b[0;32m---> 25\u001b[0m ris_time, ris_sinusoidal_wave \u001b[38;5;241m=\u001b[39m \u001b[43mcomplex_to_sinusoidal\u001b[49m\u001b[43m(\u001b[49m\u001b[43mrecieved_power_ris\u001b[49m\u001b[43m,\u001b[49m\u001b[43m \u001b[49m\n\u001b[1;32m     26\u001b[0m \u001b[43m                                                      \u001b[49m\u001b[43mfrequency\u001b[49m\u001b[43m,\u001b[49m\u001b[43m \u001b[49m\n\u001b[1;32m     27\u001b[0m \u001b[43m                                                      \u001b[49m\u001b[43mduration\u001b[49m\u001b[43m,\u001b[49m\n\u001b[1;32m     28\u001b[0m \u001b[43m                                                      \u001b[49m\u001b[43msampling_rate\u001b[49m\u001b[38;5;241;43m=\u001b[39;49m\u001b[43msampling_rate\u001b[49m\u001b[43m)\u001b[49m\n\u001b[1;32m     30\u001b[0m \u001b[38;5;66;03m#ue\u001b[39;00m\n\u001b[1;32m     31\u001b[0m distortion_ue \u001b[38;5;241m=\u001b[39m np\u001b[38;5;241m.\u001b[39mexp(\u001b[38;5;241m1\u001b[39mj\u001b[38;5;241m*\u001b[39m\u001b[38;5;241m2\u001b[39m\u001b[38;5;241m*\u001b[39mnp\u001b[38;5;241m.\u001b[39mpi\u001b[38;5;241m*\u001b[39mnp\u001b[38;5;241m.\u001b[39mrandom\u001b[38;5;241m.\u001b[39mdefault_rng(seed\u001b[38;5;241m=\u001b[39m\u001b[38;5;241m21\u001b[39m\u001b[38;5;241m+\u001b[39mnp\u001b[38;5;241m.\u001b[39margmax(sinr))\u001b[38;5;241m.\u001b[39mrandom(\u001b[38;5;241m1\u001b[39m))\n",
      "File \u001b[0;32m~/Desktop/VectorSync/Simulation/utils.py:214\u001b[0m, in \u001b[0;36mcomplex_to_sinusoidal\u001b[0;34m(power_complex, frequency, duration, sampling_rate)\u001b[0m\n\u001b[1;32m    211\u001b[0m amplitude \u001b[38;5;241m=\u001b[39m np\u001b[38;5;241m.\u001b[39mabs(power_complex)\n\u001b[1;32m    212\u001b[0m phase \u001b[38;5;241m=\u001b[39m np\u001b[38;5;241m.\u001b[39mangle(power_complex)\n\u001b[0;32m--> 214\u001b[0m time \u001b[38;5;241m=\u001b[39m \u001b[43mnp\u001b[49m\u001b[38;5;241;43m.\u001b[39;49m\u001b[43mlinspace\u001b[49m\u001b[43m(\u001b[49m\u001b[38;5;241;43m0\u001b[39;49m\u001b[43m,\u001b[49m\u001b[43m \u001b[49m\u001b[43mduration\u001b[49m\u001b[43m,\u001b[49m\u001b[43m \u001b[49m\u001b[38;5;28;43mint\u001b[39;49m\u001b[43m(\u001b[49m\u001b[43msampling_rate\u001b[49m\u001b[43m \u001b[49m\u001b[38;5;241;43m*\u001b[39;49m\u001b[43m \u001b[49m\u001b[43mduration\u001b[49m\u001b[43m)\u001b[49m\u001b[43m,\u001b[49m\u001b[43m \u001b[49m\u001b[43mendpoint\u001b[49m\u001b[38;5;241;43m=\u001b[39;49m\u001b[38;5;28;43;01mFalse\u001b[39;49;00m\u001b[43m)\u001b[49m\n\u001b[1;32m    215\u001b[0m sinusoidal_wave \u001b[38;5;241m=\u001b[39m amplitude \u001b[38;5;241m*\u001b[39m np\u001b[38;5;241m.\u001b[39mcos(\u001b[38;5;241m2\u001b[39m \u001b[38;5;241m*\u001b[39m np\u001b[38;5;241m.\u001b[39mpi \u001b[38;5;241m*\u001b[39m frequency \u001b[38;5;241m*\u001b[39m time \u001b[38;5;241m+\u001b[39m phase)\n\u001b[1;32m    217\u001b[0m \u001b[38;5;28;01mreturn\u001b[39;00m time, sinusoidal_wave\n",
      "File \u001b[0;32m<__array_function__ internals>:180\u001b[0m, in \u001b[0;36mlinspace\u001b[0;34m(*args, **kwargs)\u001b[0m\n",
      "File \u001b[0;32m~/anaconda3/lib/python3.9/site-packages/numpy/core/function_base.py:135\u001b[0m, in \u001b[0;36mlinspace\u001b[0;34m(start, stop, num, endpoint, retstep, dtype, axis)\u001b[0m\n\u001b[1;32m    132\u001b[0m     dtype \u001b[38;5;241m=\u001b[39m dt\n\u001b[1;32m    134\u001b[0m delta \u001b[38;5;241m=\u001b[39m stop \u001b[38;5;241m-\u001b[39m start\n\u001b[0;32m--> 135\u001b[0m y \u001b[38;5;241m=\u001b[39m \u001b[43m_nx\u001b[49m\u001b[38;5;241;43m.\u001b[39;49m\u001b[43marange\u001b[49m\u001b[43m(\u001b[49m\u001b[38;5;241;43m0\u001b[39;49m\u001b[43m,\u001b[49m\u001b[43m \u001b[49m\u001b[43mnum\u001b[49m\u001b[43m,\u001b[49m\u001b[43m \u001b[49m\u001b[43mdtype\u001b[49m\u001b[38;5;241;43m=\u001b[39;49m\u001b[43mdt\u001b[49m\u001b[43m)\u001b[49m\u001b[38;5;241m.\u001b[39mreshape((\u001b[38;5;241m-\u001b[39m\u001b[38;5;241m1\u001b[39m,) \u001b[38;5;241m+\u001b[39m (\u001b[38;5;241m1\u001b[39m,) \u001b[38;5;241m*\u001b[39m ndim(delta))\n\u001b[1;32m    136\u001b[0m \u001b[38;5;66;03m# In-place multiplication y *= delta/div is faster, but prevents the multiplicant\u001b[39;00m\n\u001b[1;32m    137\u001b[0m \u001b[38;5;66;03m# from overriding what class is produced, and thus prevents, e.g. use of Quantities,\u001b[39;00m\n\u001b[1;32m    138\u001b[0m \u001b[38;5;66;03m# see gh-7142. Hence, we multiply in place only for standard scalar types.\u001b[39;00m\n\u001b[1;32m    139\u001b[0m _mult_inplace \u001b[38;5;241m=\u001b[39m _nx\u001b[38;5;241m.\u001b[39misscalar(delta)\n",
      "\u001b[0;31mMemoryError\u001b[0m: Unable to allocate 22.4 GiB for an array with shape (3000000000,) and data type float64"
     ]
    }
   ],
   "source": [
    "%time\n",
    "\n",
    "frequency = 3e8 #40e9  \n",
    "speed= frequency*lamda\n",
    "duration = 5\n",
    "sampling_rate=50 # >2*frequency\n",
    "ue_angle = samples[np.argmax(sinr)].tolist()\n",
    "ris_data=ris_angles+ris_vectors\n",
    "\n",
    "pos_angles = [ris_data[0]]+[ue_angle]\n",
    "A = find_steering_matrix(wavelength=lamda, pos_angles=pos_angles, planar_antenna_shape=(P,Q)) # steering vectors\n",
    "weights = np.average(A,axis=1)/M\n",
    "\n",
    "#ris\n",
    "distortion_ris = np.exp(1j*2*np.pi*np.random.default_rng(seed=42).random(1)) \n",
    "recieved_power_ris = np.sum(distortion_ris*ris_alphas*weights)/n_antenna\n",
    "ris_time, ris_sinusoidal_wave = complex_to_sinusoidal(recieved_power_ris, \n",
    "                                                      frequency, \n",
    "                                                      duration,\n",
    "                                                      sampling_rate=sampling_rate)\n",
    "\n",
    "#ue\n",
    "distortion_ue = np.exp(1j*2*np.pi*np.random.default_rng(seed=21+np.argmax(sinr)).random(1))\n",
    "recieved_power_ue = np.sum(distortion_ue*ue_alphas*weights)/n_antenna\n",
    "ue_time, ue_sinusoidal_wave = complex_to_sinusoidal(recieved_power_ue, \n",
    "                                                    frequency, \n",
    "                                                    duration,\n",
    "                                                    sampling_rate=sampling_rate)\n",
    "\n",
    "print('RIS\\n---')\n",
    "print('amplitude:',np.abs(recieved_power_ris))\n",
    "phase_ris = np.angle(recieved_power_ris)*180/np.pi\n",
    "print('phase:',phase_ris)\n",
    "\n",
    "print('\\nUser Equipement\\n---------------')\n",
    "print('amplitude:',np.abs(recieved_power_ue))\n",
    "phase_ue = np.angle(recieved_power_ue)*180/np.pi\n",
    "print('phase:',phase_ue)\n",
    "\n",
    "phase_diff = abs(phase_ris-phase_ue)\n",
    "omega = 360*frequency\n",
    "del_t = phase_diff/omega\n",
    "del_d = speed*del_t\n",
    "\n",
    "# time_delay = find_time_delay(ue_sinusoidal_wave, ris_sinusoidal_wave, sampling_rate)\n",
    "\n",
    "print(f'\\ntime delay: {abs(del_t)} seconds')\n",
    "print(f'∇d: {del_d} meters')"
   ]
  },
  {
   "cell_type": "code",
   "execution_count": 45,
   "id": "22e4483c",
   "metadata": {},
   "outputs": [
    {
     "name": "stdout",
     "output_type": "stream",
     "text": [
      "\n",
      ">> processing simulation #bartlett: Done!! Time taken: 64.2838 sec\n"
     ]
    }
   ],
   "source": [
    "sim_tm.end()"
   ]
  }
 ],
 "metadata": {
  "kernelspec": {
   "display_name": "Python 3 (ipykernel)",
   "language": "python",
   "name": "python3"
  },
  "language_info": {
   "codemirror_mode": {
    "name": "ipython",
    "version": 3
   },
   "file_extension": ".py",
   "mimetype": "text/x-python",
   "name": "python",
   "nbconvert_exporter": "python",
   "pygments_lexer": "ipython3",
   "version": "3.9.13"
  }
 },
 "nbformat": 4,
 "nbformat_minor": 5
}
